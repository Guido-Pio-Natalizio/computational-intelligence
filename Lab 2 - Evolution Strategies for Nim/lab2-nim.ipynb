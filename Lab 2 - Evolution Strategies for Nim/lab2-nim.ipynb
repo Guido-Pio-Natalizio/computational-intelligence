{
 "cells": [
  {
   "cell_type": "markdown",
   "metadata": {
    "pycharm": {
     "name": "#%% md\n"
    }
   },
   "source": [
    "Copyright **`(c)`** 2022 Giovanni Squillero `<squillero@polito.it>`  \n",
    "[`https://github.com/squillero/computational-intelligence`](https://github.com/squillero/computational-intelligence)  \n",
    "Free for personal or classroom use; see [`LICENSE.md`](https://github.com/squillero/computational-intelligence/blob/master/LICENSE.md) for details.  \n"
   ]
  },
  {
   "cell_type": "markdown",
   "metadata": {
    "pycharm": {
     "name": "#%%\n"
    }
   },
   "source": [
    "# Lab 3: ES\n",
    "\n",
    "## Task\n",
    "\n",
    "Write agents able to play [*Nim*](https://en.wikipedia.org/wiki/Nim), with an arbitrary number of rows and an upper bound $k$ on the number of objects that can be removed in a turn (a.k.a., *subtraction game*).\n",
    "\n",
    "The goal of the game is to **avoid** taking the last object.\n",
    "\n",
    "* Task2.1: An agent using fixed rules based on *nim-sum* (i.e., an *expert system*)\n",
    "* Task2.2: An agent using evolved rules using ES\n",
    "\n",
    "## Instructions\n",
    "\n",
    "* Create the directory `lab2` inside your personal course repository for the course \n",
    "* Put a `README.md` and your solution (all the files, code and auxiliary data if needed)\n",
    "\n",
    "## Notes\n",
    "\n",
    "* Working in group is not only allowed, but recommended (see: [Ubuntu](https://en.wikipedia.org/wiki/Ubuntu_philosophy) and [Cooperative Learning](https://files.eric.ed.gov/fulltext/EJ1096789.pdf)). Collaborations must be explicitly declared in the `README.md`.\n",
    "* [Yanking](https://www.emacswiki.org/emacs/KillingAndYanking) from the internet is allowed, but sources must be explicitly declared in the `README.md`.\n",
    "\n"
   ]
  },
  {
   "cell_type": "code",
   "execution_count": 23,
   "metadata": {},
   "outputs": [],
   "source": [
    "import logging\n",
    "from pprint import pprint, pformat\n",
    "from collections import namedtuple\n",
    "import random\n",
    "import matplotlib.pyplot as plt\n",
    "from copy import deepcopy\n",
    "from tqdm import trange\n"
   ]
  },
  {
   "cell_type": "markdown",
   "metadata": {},
   "source": [
    "## The *Nim* and *Nimply* classes"
   ]
  },
  {
   "cell_type": "code",
   "execution_count": 24,
   "metadata": {},
   "outputs": [],
   "source": [
    "Nimply = namedtuple(\"Nimply\", \"row, num_objects\")\n"
   ]
  },
  {
   "cell_type": "code",
   "execution_count": 25,
   "metadata": {},
   "outputs": [],
   "source": [
    "class Nim:\n",
    "    def __init__(self, num_rows: int, k: int = None) -> None:\n",
    "        self._rows = [i * 2 + 1 for i in range(num_rows)]\n",
    "        self._k = k\n",
    "\n",
    "    def __bool__(self):\n",
    "        return sum(self._rows) > 0\n",
    "\n",
    "    def __str__(self):\n",
    "        return \"<\" + \" \".join(str(_) for _ in self._rows) + \">\"\n",
    "\n",
    "    @property\n",
    "    def rows(self) -> tuple:\n",
    "        return tuple(self._rows)\n",
    "\n",
    "    def nimming(self, ply: Nimply) -> None:\n",
    "        row, num_objects = ply\n",
    "        assert self._rows[row] >= num_objects\n",
    "        assert self._k is None or num_objects <= self._k\n",
    "        self._rows[row] -= num_objects\n"
   ]
  },
  {
   "cell_type": "markdown",
   "metadata": {},
   "source": [
    "## Sample (and silly) startegies "
   ]
  },
  {
   "cell_type": "code",
   "execution_count": 26,
   "metadata": {},
   "outputs": [],
   "source": [
    "def pure_random(state: Nim) -> Nimply:\n",
    "    \"\"\"A completely random move\"\"\"\n",
    "    row = random.choice([r for r, c in enumerate(state.rows) if c > 0])\n",
    "    num_objects = random.randint(1, state.rows[row])\n",
    "    return Nimply(row, num_objects)\n"
   ]
  },
  {
   "cell_type": "code",
   "execution_count": 27,
   "metadata": {},
   "outputs": [],
   "source": [
    "def gabriele(state: Nim) -> Nimply:\n",
    "    \"\"\"Pick always the maximum possible number of the lowest row\"\"\"\n",
    "    possible_moves = [(r, o) for r, c in enumerate(state.rows) for o in range(1, c + 1)]\n",
    "    return Nimply(*max(possible_moves, key=lambda m: (-m[0], m[1])))\n"
   ]
  },
  {
   "cell_type": "code",
   "execution_count": 28,
   "metadata": {},
   "outputs": [],
   "source": [
    "def adaptive(state: Nim) -> Nimply:\n",
    "    \"\"\"A strategy that can adapt its parameters\"\"\"\n",
    "    genome = {\"love_small\": 0.5}\n"
   ]
  },
  {
   "cell_type": "code",
   "execution_count": 29,
   "metadata": {},
   "outputs": [],
   "source": [
    "import numpy as np\n",
    "\n",
    "\n",
    "def nim_sum(state: Nim) -> int:\n",
    "    tmp = np.array([tuple(int(x) for x in f\"{c:032b}\") for c in state.rows])\n",
    "    xor = tmp.sum(axis=0) % 2\n",
    "    return int(\"\".join(str(_) for _ in xor), base=2)\n",
    "\n",
    "\n",
    "def analize(raw: Nim, func = nim_sum) -> dict:\n",
    "    cooked = dict()\n",
    "    cooked[\"possible_moves\"] = dict()\n",
    "    for ply in (Nimply(r, o) for r, c in enumerate(raw.rows) for o in range(1, c + 1)):\n",
    "        tmp = deepcopy(raw)\n",
    "        tmp.nimming(ply)\n",
    "        cooked[\"possible_moves\"][ply] = func(tmp)\n",
    "    return cooked\n",
    "\n",
    "\n",
    "def optimal(state: Nim) -> Nimply:\n",
    "    analysis = analize(state)\n",
    "    logging.debug(f\"analysis:\\n{pformat(analysis)}\")\n",
    "    spicy_moves = [ply for ply, ns in analysis[\"possible_moves\"].items() if ns != 0]\n",
    "    if not spicy_moves:\n",
    "        spicy_moves = list(analysis[\"possible_moves\"].keys())\n",
    "    ply = random.choice(spicy_moves)\n",
    "    return ply\n"
   ]
  },
  {
   "cell_type": "markdown",
   "metadata": {},
   "source": [
    "## Oversimplified match"
   ]
  },
  {
   "cell_type": "code",
   "execution_count": 30,
   "metadata": {},
   "outputs": [
    {
     "name": "stderr",
     "output_type": "stream",
     "text": [
      "INFO:root:init : <1 3 5 7 9>\n",
      "INFO:root:ply: player 0 plays Nimply(row=1, num_objects=3)\n",
      "INFO:root:status: <1 0 5 7 9>\n",
      "INFO:root:ply: player 1 plays Nimply(row=0, num_objects=1)\n",
      "INFO:root:status: <0 0 5 7 9>\n",
      "INFO:root:ply: player 0 plays Nimply(row=3, num_objects=6)\n",
      "INFO:root:status: <0 0 5 1 9>\n",
      "INFO:root:ply: player 1 plays Nimply(row=4, num_objects=3)\n",
      "INFO:root:status: <0 0 5 1 6>\n",
      "INFO:root:ply: player 0 plays Nimply(row=3, num_objects=1)\n",
      "INFO:root:status: <0 0 5 0 6>\n",
      "INFO:root:ply: player 1 plays Nimply(row=2, num_objects=5)\n",
      "INFO:root:status: <0 0 0 0 6>\n",
      "INFO:root:ply: player 0 plays Nimply(row=4, num_objects=1)\n",
      "INFO:root:status: <0 0 0 0 5>\n",
      "INFO:root:ply: player 1 plays Nimply(row=4, num_objects=3)\n",
      "INFO:root:status: <0 0 0 0 2>\n",
      "INFO:root:ply: player 0 plays Nimply(row=4, num_objects=1)\n",
      "INFO:root:status: <0 0 0 0 1>\n",
      "INFO:root:ply: player 1 plays Nimply(row=4, num_objects=1)\n",
      "INFO:root:status: <0 0 0 0 0>\n",
      "INFO:root:status: Player 0 won!\n"
     ]
    }
   ],
   "source": [
    "logging.getLogger().setLevel(logging.INFO)\n",
    "\n",
    "strategy = (optimal, pure_random)\n",
    "\n",
    "nim = Nim(5)\n",
    "logging.info(f\"init : {nim}\")\n",
    "player = 0\n",
    "while nim:\n",
    "    ply = strategy[player](nim)\n",
    "    logging.info(f\"ply: player {player} plays {ply}\")\n",
    "    nim.nimming(ply)\n",
    "    logging.info(f\"status: {nim}\")\n",
    "    player = 1 - player\n",
    "logging.info(f\"status: Player {player} won!\")\n"
   ]
  },
  {
   "cell_type": "markdown",
   "metadata": {},
   "source": [
    "## Rule-based Agent\n",
    "Our _expert system_ behaves in the following way\n",
    "\n",
    "1. If there is a move that leaves only one single match remaining, it picks that move\n",
    "2. Otherwise, looks for a move that sets the nim sum to 0\n",
    "3. If no moves were found in steps 1 and 2, picks a random move"
   ]
  },
  {
   "cell_type": "code",
   "execution_count": 31,
   "metadata": {},
   "outputs": [],
   "source": [
    "def expert(state: Nim) -> Nimply:\n",
    "    analysis = analize(state, lambda s: sum(s.rows))\n",
    "    logging.debug(f\"analysis:\\n{pformat(analysis)}\")\n",
    "    spicy_moves = [ply for ply, sum in analysis[\"possible_moves\"].items() if sum == 1]  # first step: select a move that leaves only one match (winning move)\n",
    "    if not spicy_moves:                                                                 # second step: select a move that sets the nim sum to 0\n",
    "        analysis = analize(state)\n",
    "        spicy_moves = [ply for ply, ns in analysis[\"possible_moves\"].items() if ns == 0]\n",
    "    if not spicy_moves:                                                                 # third step: select a random move\n",
    "        spicy_moves = list(analysis[\"possible_moves\"].keys())\n",
    "    ply = random.choice(spicy_moves)\n",
    "    return ply"
   ]
  },
  {
   "cell_type": "markdown",
   "metadata": {},
   "source": [
    "## Evolution Strategies"
   ]
  },
  {
   "cell_type": "markdown",
   "metadata": {},
   "source": [
    "### Utils"
   ]
  },
  {
   "cell_type": "code",
   "execution_count": 32,
   "metadata": {},
   "outputs": [],
   "source": [
    "class Individual:\n",
    "    genotype:float  # a number between 0 and 1, it's the probability of choosing the move with the smallest non-zero nim sum at any given time\n",
    "    fitness: int\n",
    "\n",
    "    def __init__(self, genotype) -> None:\n",
    "        self.genotype = genotype\n",
    "\n",
    "    def __str__(self) -> str:\n",
    "        return f\"{self.genotype}: {self.fitness}\"\n",
    "\n",
    "    def phenotype(self, state: Nim) -> Nimply:\n",
    "        analysis = analize(state)\n",
    "        spicy_moves = [(ply, ns) for ply, ns in analysis[\"possible_moves\"].items() if ns != 0]\n",
    "        if not spicy_moves:\n",
    "            spicy_moves = list(analysis[\"possible_moves\"].keys())\n",
    "            return random.choice(spicy_moves)\n",
    "        if random.random() < self.genotype: # choose the move with the smallest non-zero nim sum\n",
    "            return min(spicy_moves, key = lambda i: i[1])[0]\n",
    "        return random.choice(spicy_moves)[0]"
   ]
  },
  {
   "cell_type": "code",
   "execution_count": 33,
   "metadata": {},
   "outputs": [],
   "source": [
    "def game(player1, player2=pure_random) -> (bool, int):  # plays a game between two different agents, defined as player1 and player2\n",
    "    nim = Nim(5)\n",
    "    strategy = (player1, player2)\n",
    "    player = random.choice((0,1))  # randomly select starting player\n",
    "    while nim:\n",
    "        ply = strategy[player](nim)\n",
    "        nim.nimming(ply)\n",
    "        player = not player\n",
    "    return not player  # returns the losing player (1 if the winner is 0 and viceversa) and the duration of the game"
   ]
  },
  {
   "cell_type": "code",
   "execution_count": 34,
   "metadata": {},
   "outputs": [],
   "source": [
    "def fitness(individual:Individual):  # the fitness is calculated as the winrate and the average number of moves calculated over 100 games\n",
    "    winrate = 0\n",
    "    for _ in range(100):\n",
    "        player2 = expert\n",
    "        won= game(individual.phenotype, player2)\n",
    "        winrate += won\n",
    "    return winrate"
   ]
  },
  {
   "cell_type": "code",
   "execution_count": 35,
   "metadata": {},
   "outputs": [
    {
     "name": "stdout",
     "output_type": "stream",
     "text": [
      "0.686823156830746: 9\n"
     ]
    }
   ],
   "source": [
    "ind = Individual(random.random())\n",
    "\n",
    "ind.fitness = fitness(ind)\n",
    "print(ind)"
   ]
  },
  {
   "cell_type": "code",
   "execution_count": 36,
   "metadata": {},
   "outputs": [],
   "source": [
    "def graph(individuals):\n",
    "    fig, axs = plt.subplots(2, sharex=True)\n",
    "    fig.suptitle('Fitness and genotype at different generations')\n",
    "    axs[0].plot(range(len(individuals)), [individual.fitness for individual in individuals])\n",
    "    axs[1].plot(range(len(individuals)), [individual.genotype for individual in individuals])\n",
    "    axs[0].set_ylabel(\"Fitness\")\n",
    "    axs[1].set_ylabel(\"Genotype\")\n",
    "    axs[1].set_xlabel(\"Generation\")\n",
    "    fig.show()"
   ]
  },
  {
   "cell_type": "code",
   "execution_count": 37,
   "metadata": {},
   "outputs": [],
   "source": [
    "POPULATION_SIZE = 30\n",
    "OFFSPRING_SIZE = 10\n",
    "PARENTS_PER_CHILD = 2\n",
    "TOUR_SIZE = 2\n",
    "MUTATION_CHANCE = 0.05\n",
    "SIGMA = 0.2\n",
    "TOTAL_GENERATIONS = 100"
   ]
  },
  {
   "cell_type": "code",
   "execution_count": 38,
   "metadata": {},
   "outputs": [],
   "source": [
    "def mutate(ind: Individual):\n",
    "    return Individual(np.clip(np.random.normal(ind.genotype, SIGMA), 0, 1))"
   ]
  },
  {
   "cell_type": "code",
   "execution_count": 39,
   "metadata": {},
   "outputs": [],
   "source": [
    "def xover(individuals):\n",
    "    return Individual(np.average([i.genotype for i in individuals]))"
   ]
  },
  {
   "cell_type": "code",
   "execution_count": 40,
   "metadata": {},
   "outputs": [],
   "source": [
    "def tour(individuals):\n",
    "    tournament = [random.choice(individuals) for _ in range(TOUR_SIZE)]\n",
    "    champion = max(tournament, key=lambda i: i.fitness)\n",
    "    return champion"
   ]
  },
  {
   "cell_type": "code",
   "execution_count": 41,
   "metadata": {},
   "outputs": [],
   "source": [
    "# initialize the population\n",
    "def init_pop():\n",
    "    population = [Individual(random.random()) for _ in range(POPULATION_SIZE)]\n",
    "    for p in population:\n",
    "        p.fitness = fitness(p)\n",
    "    return population\n",
    "\n",
    "\n",
    "population = init_pop()"
   ]
  },
  {
   "cell_type": "markdown",
   "metadata": {},
   "source": [
    "## ($\\mu$ + $\\lambda$) ES"
   ]
  },
  {
   "cell_type": "code",
   "execution_count": 42,
   "metadata": {},
   "outputs": [
    {
     "name": "stderr",
     "output_type": "stream",
     "text": [
      "100%|██████████| 100/100 [11:29<00:00,  6.89s/it]\n"
     ]
    },
    {
     "data": {
      "image/png": "[encoded data removed]",
      "text/plain": [
       "<Figure size 640x480 with 1 Axes>"
      ]
     },
     "metadata": {},
     "output_type": "display_data"
    }
   ],
   "source": [
    "best = list()  # contains the best individual for each population, for graphing purposes\n",
    "\n",
    "for generation in trange(TOTAL_GENERATIONS):\n",
    "    offspring = list()\n",
    "    for _ in range(OFFSPRING_SIZE):\n",
    "        if random.random() < MUTATION_CHANCE: # mutate\n",
    "            parent = tour(population)\n",
    "            child = mutate(parent)\n",
    "        else:\n",
    "            parents = list()\n",
    "            for _ in range(PARENTS_PER_CHILD):\n",
    "                parents.append(tour(population))\n",
    "            child = xover(parents)\n",
    "        child.fitness = fitness(child)\n",
    "        offspring.append(child)\n",
    "    population.extend(offspring)\n",
    "    population.sort(key = lambda i: i.fitness, reverse=True)\n",
    "    population = population[: POPULATION_SIZE]\n",
    "    best.append(population[0])\n",
    "graph(best)\n"
   ]
  },
  {
   "cell_type": "markdown",
   "metadata": {},
   "source": [
    "## ($\\mu$, $\\lambda$) ES"
   ]
  },
  {
   "cell_type": "code",
   "execution_count": 43,
   "metadata": {},
   "outputs": [],
   "source": [
    "POPULATION_SIZE = 10\n",
    "OFFSPRING_SIZE = 30\n",
    "PARENTS_PER_CHILD = 2\n",
    "TOUR_SIZE = 2\n",
    "MUTATION_CHANCE = 0.05\n",
    "SIGMA = 0.2\n",
    "TOTAL_GENERATIONS = 100\n",
    "\n",
    "population = init_pop()"
   ]
  },
  {
   "cell_type": "code",
   "execution_count": 44,
   "metadata": {},
   "outputs": [
    {
     "name": "stderr",
     "output_type": "stream",
     "text": [
      "  0%|          | 0/100 [00:00<?, ?it/s]"
     ]
    },
    {
     "name": "stderr",
     "output_type": "stream",
     "text": [
      "  3%|▎         | 3/100 [01:04<34:44, 21.49s/it]"
     ]
    }
   ],
   "source": [
    "best = list()\n",
    "\n",
    "for generation in trange(TOTAL_GENERATIONS):\n",
    "    offspring = list()\n",
    "    for _ in range(OFFSPRING_SIZE):\n",
    "        if random.random() < MUTATION_CHANCE: # mutate\n",
    "            parent = tour(population)\n",
    "            child = mutate(parent)\n",
    "        else:\n",
    "            parents = list()\n",
    "            for _ in range(PARENTS_PER_CHILD):\n",
    "                parents.append(tour(population))\n",
    "            child = xover(parents)\n",
    "        child.fitness = fitness(child)\n",
    "        offspring.append(child)\n",
    "    offspring.sort(key = lambda i: i.fitness, reverse=True)\n",
    "    population = offspring[: POPULATION_SIZE]\n",
    "    best.append(population[0])\n",
    "\n",
    "graph(best)"
   ]
  }
 ],
 "metadata": {
  "kernelspec": {
   "display_name": "Python 3.10.7 ('ci22-dPIXJ0_o-py3.10')",
   "language": "python",
   "name": "python3"
  },
  "language_info": {
   "codemirror_mode": {
    "name": "ipython",
    "version": 3
   },
   "file_extension": ".py",
   "mimetype": "text/x-python",
   "name": "python",
   "nbconvert_exporter": "python",
   "pygments_lexer": "ipython3",
   "version": "3.12.0"
  },
  "vscode": {
   "interpreter": {
    "hash": "10197e8e2f2aa67e2c349105091c77f4cd384fce4877865f002d9ec653f96bc0"
   }
  }
 },
 "nbformat": 4,
 "nbformat_minor": 2
}
