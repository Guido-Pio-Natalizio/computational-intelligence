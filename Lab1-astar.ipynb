{
 "cells": [
  {
   "cell_type": "markdown",
   "metadata": {},
   "source": [
    "## Lab 1 - A-star\n",
    "\n",
    "Implement the A* to the set cover problem"
   ]
  },
  {
   "cell_type": "code",
   "execution_count": 1,
   "metadata": {},
   "outputs": [],
   "source": [
    "import numpy as np\n",
    "from random import random\n",
    "from functools import reduce\n",
    "import queue\n",
    "import matplotlib.pyplot as plt\n",
    "from collections import namedtuple\n",
    "import scipy\n",
    "from math import factorial"
   ]
  },
  {
   "cell_type": "code",
   "execution_count": 2,
   "metadata": {},
   "outputs": [],
   "source": [
    "PROBLEM_SIZE = 25\n",
    "NUM_SETS = 64\n",
    "State = namedtuple('state', ['taken', 'not_taken'])\n",
    "SETS = tuple(np.array([random() < .5 for _ in range(PROBLEM_SIZE)]) for _ in range(NUM_SETS))"
   ]
  },
  {
   "cell_type": "code",
   "execution_count": 3,
   "metadata": {},
   "outputs": [
    {
     "data": {
      "image/png": "[encoded data removed]",
      "text/plain": [
       "<Figure size 640x480 with 1 Axes>"
      ]
     },
     "metadata": {},
     "output_type": "display_data"
    }
   ],
   "source": [
    "def draw_sol(map):\n",
    "    plt.imshow(map, cmap=\"binary\")\n",
    "    ax = plt.gca()\n",
    "    ax.get_xaxis().set_visible(False)\n",
    "    ax.get_yaxis().set_visible(False)\n",
    "    plt.show();\n",
    "\n",
    "draw_sol(np.vstack([SETS[i] for i in range(NUM_SETS)]))"
   ]
  },
  {
   "cell_type": "code",
   "execution_count": 4,
   "metadata": {},
   "outputs": [],
   "source": [
    "def draw_plots(size, plots, xlabel=\"x\", ylabel=\"y\", legend_title=\" \"):\n",
    "    for label in plots.keys():\n",
    "        plt.plot(range(1, size), plots[label], label=label)\n",
    "    plt.xlabel(xlabel)\n",
    "    plt.ylabel(ylabel)\n",
    "    plt.xticks(np.arange(1, size))\n",
    "    plt.legend(title=legend_title)\n",
    "    plt.show()"
   ]
  },
  {
   "cell_type": "code",
   "execution_count": 5,
   "metadata": {},
   "outputs": [],
   "source": [
    "def goal_check(state): # function to check if we found a set cover\n",
    "    return len(state.taken) > 0 and np.all(reduce(np.logical_or, [SETS[i] for i in state.taken])) \n",
    "\n",
    "assert goal_check(State(set(range(NUM_SETS)), set())), \"Problem not solvable\" # check if the problem is solvable"
   ]
  },
  {
   "cell_type": "code",
   "execution_count": 6,
   "metadata": {},
   "outputs": [],
   "source": [
    "def distance(state):\n",
    "    return PROBLEM_SIZE - np.sum(reduce(np.logical_or, [SETS[i] for i in state.taken], [False for _ in range(PROBLEM_SIZE)]))"
   ]
  },
  {
   "cell_type": "code",
   "execution_count": 7,
   "metadata": {},
   "outputs": [],
   "source": [
    "def find_solution(f = lambda s: len(s.taken), verbose=True): #f is the function that calculates the cost of reaching a state\n",
    "    frontier = queue.PriorityQueue()\n",
    "    frontier.put((0, State(set(), set(range(NUM_SETS)))))  #initial state\n",
    "    _, curr_state = frontier.get()\n",
    "    counter = 0\n",
    "    while not goal_check(curr_state):\n",
    "        counter += 1\n",
    "        for action in curr_state.not_taken:\n",
    "            new_state = State(curr_state.taken ^ {action}, curr_state.not_taken ^ {action}) #using XOR for both operations\n",
    "            frontier.put((f(new_state), new_state))\n",
    "        _, curr_state = frontier.get()\n",
    "    if verbose:\n",
    "        print(\"Found solution\", curr_state.taken ,\"in\", counter, \"steps.\\nCost:\", len(curr_state.taken))\n",
    "        draw_sol(np.vstack([SETS[i] for i in curr_state.taken]))\n",
    "    return len(curr_state.taken), counter"
   ]
  },
  {
   "cell_type": "markdown",
   "metadata": {},
   "source": [
    "Let's calculate solutions with breadth-first and greedy best-first algorithms to use them as a benchmark:"
   ]
  },
  {
   "cell_type": "markdown",
   "metadata": {},
   "source": [
    "## Breadth First\n"
   ]
  },
  {
   "cell_type": "code",
   "execution_count": 8,
   "metadata": {},
   "outputs": [
    {
     "name": "stdout",
     "output_type": "stream",
     "text": [
      "Found solution {5, 55} in 3258 steps.\n",
      "Cost: 2\n"
     ]
    },
    {
     "data": {
      "image/png": "[encoded data removed]",
      "text/plain": [
       "<Figure size 640x480 with 1 Axes>"
      ]
     },
     "metadata": {},
     "output_type": "display_data"
    }
   ],
   "source": [
    "bf_cost, bf_steps = find_solution()"
   ]
  },
  {
   "cell_type": "markdown",
   "metadata": {},
   "source": [
    "## Greedy Best First"
   ]
  },
  {
   "cell_type": "code",
   "execution_count": 9,
   "metadata": {},
   "outputs": [
    {
     "name": "stdout",
     "output_type": "stream",
     "text": [
      "Found solution {0, 1, 36} in 3 steps.\n",
      "Cost: 3\n"
     ]
    },
    {
     "data": {
      "image/png": "[encoded data removed]",
      "text/plain": [
       "<Figure size 640x480 with 1 Axes>"
      ]
     },
     "metadata": {},
     "output_type": "display_data"
    }
   ],
   "source": [
    "gbf_cost, gbf_steps = find_solution(distance)"
   ]
  },
  {
   "cell_type": "markdown",
   "metadata": {},
   "source": [
    "# A*\n",
    "\n",
    "The metric used to calculate the priority is\n",
    "\n",
    "    f(n) = g(n) + h(n)\n",
    "\n",
    "- g is the cost\n",
    "- h is the heuristic (distance)"
   ]
  },
  {
   "cell_type": "markdown",
   "metadata": {},
   "source": [
    "## First approach\n",
    "\n",
    "- g = number of sets taken\n",
    "- h = number of spots left to fill"
   ]
  },
  {
   "cell_type": "code",
   "execution_count": 10,
   "metadata": {},
   "outputs": [
    {
     "name": "stdout",
     "output_type": "stream",
     "text": [
      "Found solution {0, 1, 36} in 6 steps.\n",
      "Cost: 3\n"
     ]
    },
    {
     "data": {
      "image/png": "[encoded data removed]",
      "text/plain": [
       "<Figure size 640x480 with 1 Axes>"
      ]
     },
     "metadata": {},
     "output_type": "display_data"
    }
   ],
   "source": [
    "curr_cost, curr_steps = find_solution(lambda s: distance(s) + len(s.taken));"
   ]
  },
  {
   "cell_type": "markdown",
   "metadata": {},
   "source": [
    "### Observations:\n",
    "The first approach doesn't provide any improvement when compared to greedy best first."
   ]
  },
  {
   "cell_type": "markdown",
   "metadata": {},
   "source": [
    "## Adding a weight to g(n)\n",
    "Let's try adding a weight to each edge traversed."
   ]
  },
  {
   "cell_type": "code",
   "execution_count": 11,
   "metadata": {},
   "outputs": [
    {
     "data": {
      "image/png": "[encoded data removed]",
      "text/plain": [
       "<Figure size 640x480 with 1 Axes>"
      ]
     },
     "metadata": {},
     "output_type": "display_data"
    },
    {
     "data": {
      "image/png": "[encoded data removed]",
      "text/plain": [
       "<Figure size 640x480 with 1 Axes>"
      ]
     },
     "metadata": {},
     "output_type": "display_data"
    }
   ],
   "source": [
    "w = 1\n",
    "costs = []\n",
    "steps = []\n",
    "costs.append(curr_cost)\n",
    "steps.append(curr_steps)\n",
    "if curr_cost > bf_cost:\n",
    "    while curr_cost is None or curr_cost > bf_cost:\n",
    "        w += 1\n",
    "        curr_cost, curr_steps = find_solution(lambda s: distance(s) + w * len(s.taken), verbose=False)\n",
    "        costs.append(curr_cost)\n",
    "        steps.append(curr_steps)\n",
    "\n",
    "    draw_plots(w+1, plots={\n",
    "        \"g(n)\": [bf_cost for _ in range(1, w+1)],\n",
    "        \"h(n)\": [gbf_cost for _ in range(1, w+1)],\n",
    "        \"w*g(n)+h(n)\": costs\n",
    "    },\n",
    "    xlabel=\"w\",\n",
    "    ylabel=\"Solution cost\",\n",
    "    legend_title=\"f(n): \")\n",
    "\n",
    "    draw_plots(w+1, plots={\n",
    "        \"g(n)\": [bf_steps for _ in range(1, w+1)],\n",
    "        \"h(n)\": [gbf_steps for _ in range(1, w+1)],\n",
    "        \"w*g(n)+h(n)\": steps\n",
    "    },\n",
    "    xlabel=\"w\",\n",
    "    ylabel=\"Total steps\",\n",
    "    legend_title=\"f(n): \")"
   ]
  },
  {
   "cell_type": "markdown",
   "metadata": {},
   "source": [
    "### Observations\n",
    "Predictably, as w increases, the algorithm behaves more like uniform-cost search (becomes slower), however it reaches an optimal solution with relatively low values of w."
   ]
  },
  {
   "cell_type": "markdown",
   "metadata": {},
   "source": [
    "## Changing heuristics\n",
    "Let's try changing h(n) to penalize repeated values"
   ]
  },
  {
   "cell_type": "code",
   "execution_count": 12,
   "metadata": {},
   "outputs": [],
   "source": [
    "def distance(state):\n",
    "    mask = [-1 if e > 1 else e for e in np.sum([SETS[i].astype(int) for i in state.taken], axis=0)]\n",
    "    return PROBLEM_SIZE - np.sum(mask)"
   ]
  },
  {
   "cell_type": "code",
   "execution_count": 13,
   "metadata": {},
   "outputs": [
    {
     "name": "stdout",
     "output_type": "stream",
     "text": [
      "Found solution {10, 5} in 11 steps.\n",
      "Cost: 2\n"
     ]
    },
    {
     "data": {
      "image/png": "[encoded data removed]",
      "text/plain": [
       "<Figure size 640x480 with 1 Axes>"
      ]
     },
     "metadata": {},
     "output_type": "display_data"
    }
   ],
   "source": [
    "gbf_norep_cost, gbf_norep_steps = find_solution(distance)"
   ]
  },
  {
   "cell_type": "code",
   "execution_count": 14,
   "metadata": {},
   "outputs": [
    {
     "name": "stdout",
     "output_type": "stream",
     "text": [
      "Found solution {10, 5} in 23 steps.\n",
      "Cost: 2\n"
     ]
    },
    {
     "data": {
      "image/png": "[encoded data removed]",
      "text/plain": [
       "<Figure size 640x480 with 1 Axes>"
      ]
     },
     "metadata": {},
     "output_type": "display_data"
    }
   ],
   "source": [
    "a_norep_cost, a_norep_steps = find_solution(lambda s: w * len(s.taken) + distance(s))"
   ]
  },
  {
   "cell_type": "markdown",
   "metadata": {},
   "source": [
    "Let's compare the results"
   ]
  },
  {
   "cell_type": "code",
   "execution_count": 15,
   "metadata": {},
   "outputs": [
    {
     "data": {
      "image/png": "[encoded data removed]",
      "text/plain": [
       "<Figure size 640x480 with 1 Axes>"
      ]
     },
     "metadata": {},
     "output_type": "display_data"
    }
   ],
   "source": [
    "plt.plot(bf_steps, bf_cost, 'bo', label=\"g(n)\")\n",
    "plt.plot(gbf_steps, gbf_cost, 'ro', label=\"h(n)\")\n",
    "plt.plot(steps[-1], costs[-1], 'go', label=\"{}g(n) + h(n)\".format(w))\n",
    "plt.plot(gbf_norep_steps, gbf_norep_cost, 'rs', label=\"h'(n)\")\n",
    "plt.plot(a_norep_steps, a_norep_cost, 'gs', label=\"{}g(n) + h'(n)\".format(w))\n",
    "plt.xlabel(\"Steps\")\n",
    "plt.ylabel(\"Best solution\")\n",
    "plt.legend(title=\"f(n): \")\n",
    "plt.show();"
   ]
  },
  {
   "cell_type": "markdown",
   "metadata": {},
   "source": [
    "The results given by the second heuristic are comparable to those of the first."
   ]
  },
  {
   "cell_type": "markdown",
   "metadata": {},
   "source": [
    "### Approximating BFS\n",
    "\n",
    "Up until now, we used BFS to calculate the optimal solution.\n",
    "This works for small problems, but it becomes unfeasible for larger ones.\n",
    "We can approximate the results of BFS by using linear programming to find an optimal solution, then calculate how much time it would have taken BFS to find that solution."
   ]
  },
  {
   "cell_type": "code",
   "execution_count": 25,
   "metadata": {},
   "outputs": [
    {
     "name": "stdout",
     "output_type": "stream",
     "text": [
      "Found solution (16, 34, 45, 48, 49, 67, 87, 95) \n",
      "BFS would take at most 81545513752000 steps to find solution\n"
     ]
    },
    {
     "data": {
      "image/png": "[encoded data removed]",
      "text/plain": [
       "<Figure size 640x480 with 1 Axes>"
      ]
     },
     "metadata": {},
     "output_type": "display_data"
    }
   ],
   "source": [
    "def approx_BFS():\n",
    "    def BFS_steps(depth):  # calculates the number of steps taken by BFS to find a solution at given depth in the worst-case scenario\n",
    "        steps = 0\n",
    "        for d in range(1, depth+1):\n",
    "            steps += factorial(NUM_SETS) / factorial(NUM_SETS - d)\n",
    "        return steps\n",
    "    objective = np.array([1 for _ in range(NUM_SETS)])\n",
    "    constraint_mat = np.vstack((np.vstack([SETS[i].astype(int) * -1 for i in range(NUM_SETS)]).T, np.eye(NUM_SETS), np.eye(NUM_SETS) * -1))\n",
    "    constraint_vec = np.hstack((np.array([-1 for _ in range(PROBLEM_SIZE)]), np.array([1 for _ in range(NUM_SETS)]), np.array([0 for _ in range(NUM_SETS)])))\n",
    "    sol = np.where(scipy.optimize.linprog(objective, constraint_mat, constraint_vec, bounds=(0, 1), integrality=1).x>0.5)\n",
    "    return tuple(sol[0]), int(BFS_steps(len(sol[0])))\n",
    "\n",
    "app_BFS_sol, app_BFS_steps = approx_BFS()\n",
    "print(\"Found solution\", app_BFS_sol, \"\\nBFS would take at most\", app_BFS_steps, \"steps to find solution\")\n",
    "draw_sol(np.vstack([SETS[i] for i in app_BFS_sol]))\n"
   ]
  },
  {
   "cell_type": "code",
   "execution_count": 21,
   "metadata": {},
   "outputs": [],
   "source": [
    "NUM_SETS = 100\n",
    "PROBLEM_SIZE = 100\n",
    "P = 0.2\n",
    "SETS = tuple(np.array([random() < P for _ in range(PROBLEM_SIZE)]) for _ in range(NUM_SETS))"
   ]
  },
  {
   "cell_type": "code",
   "execution_count": 22,
   "metadata": {},
   "outputs": [],
   "source": [
    "assert goal_check(State(set(range(NUM_SETS)), set())), \"Problem not solvable\""
   ]
  },
  {
   "cell_type": "code",
   "execution_count": 24,
   "metadata": {},
   "outputs": [
    {
     "name": "stdout",
     "output_type": "stream",
     "text": [
      "Found solution (16, 34, 45, 48, 49, 67, 87, 95) \n",
      "BFS would take at most 7584609411928000 steps to find solution\n"
     ]
    },
    {
     "data": {
      "image/png": "[encoded data removed]",
      "text/plain": [
       "<Figure size 640x480 with 1 Axes>"
      ]
     },
     "metadata": {},
     "output_type": "display_data"
    }
   ],
   "source": [
    "app_BFS_sol, app_BFS_steps = approx_BFS()\n",
    "print(\"Found solution\", app_BFS_sol, \"\\nBFS would take at most\", app_BFS_steps, \"steps to find solution\")\n",
    "draw_sol(np.vstack([SETS[i] for i in app_BFS_sol]))"
   ]
  }
 ],
 "metadata": {
  "kernelspec": {
   "display_name": "venv",
   "language": "python",
   "name": "python3"
  },
  "language_info": {
   "codemirror_mode": {
    "name": "ipython",
    "version": 3
   },
   "file_extension": ".py",
   "mimetype": "text/x-python",
   "name": "python",
   "nbconvert_exporter": "python",
   "pygments_lexer": "ipython3",
   "version": "3.12.0"
  }
 },
 "nbformat": 4,
 "nbformat_minor": 2
}
