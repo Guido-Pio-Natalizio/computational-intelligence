{
 "cells": [
  {
   "cell_type": "markdown",
   "metadata": {},
   "source": [
    "## Lab 1 - A-star\n",
    "\n",
    "Implement the A* to the set cover problem"
   ]
  },
  {
   "cell_type": "code",
   "execution_count": 697,
   "metadata": {},
   "outputs": [],
   "source": [
    "import numpy as np\n",
    "from random import random\n",
    "from functools import reduce\n",
    "import queue\n",
    "import matplotlib.pyplot as plt\n",
    "from collections import namedtuple"
   ]
  },
  {
   "cell_type": "code",
   "execution_count": 698,
   "metadata": {},
   "outputs": [],
   "source": [
    "PROBLEM_SIZE = 25\n",
    "NUM_SETS = 64\n",
    "State = namedtuple('state', ['taken', 'not_taken'])\n",
    "SETS = tuple(np.array([random() < .5 for _ in range(PROBLEM_SIZE)]) for _ in range(NUM_SETS))"
   ]
  },
  {
   "cell_type": "code",
   "execution_count": 699,
   "metadata": {},
   "outputs": [
    {
     "data": {
      "image/png": "[encoded data removed]",
      "text/plain": [
       "<Figure size 640x480 with 1 Axes>"
      ]
     },
     "metadata": {},
     "output_type": "display_data"
    }
   ],
   "source": [
    "def draw_sol(indices):\n",
    "    map = np.vstack([SETS[i] for i in indices])\n",
    "    plt.imshow(map, cmap=\"binary\")\n",
    "    ax = plt.gca()\n",
    "    ax.get_xaxis().set_visible(False)\n",
    "    ax.get_yaxis().set_visible(False)\n",
    "    plt.show();\n",
    "\n",
    "draw_sol(range(NUM_SETS))"
   ]
  },
  {
   "cell_type": "code",
   "execution_count": 700,
   "metadata": {},
   "outputs": [],
   "source": [
    "def goal_check(state): # function to check if we found a set cover\n",
    "    return len(state.taken) > 0 and np.all(reduce(np.logical_or, [SETS[i] for i in state.taken])) \n",
    "\n",
    "assert goal_check(State(set(range(NUM_SETS)), set())), \"Problem not solvable\" # check if the problem is solvable"
   ]
  },
  {
   "cell_type": "code",
   "execution_count": 701,
   "metadata": {},
   "outputs": [],
   "source": [
    "def distance(state):\n",
    "    return PROBLEM_SIZE - np.sum(reduce(np.logical_or, [SETS[i] for i in state.taken], [False for _ in range(PROBLEM_SIZE)]))"
   ]
  },
  {
   "cell_type": "code",
   "execution_count": 702,
   "metadata": {},
   "outputs": [],
   "source": [
    "def find_solution(f = lambda s: len(s.taken), verbose=True): #f is the function that calculates the cost of reaching a state\n",
    "    frontier = queue.PriorityQueue()\n",
    "    frontier.put((PROBLEM_SIZE, State(set(), set(range(NUM_SETS)))))  #initial state\n",
    "    _, curr_state = frontier.get()\n",
    "    counter = 0\n",
    "    while not goal_check(curr_state):\n",
    "        counter += 1\n",
    "        for action in curr_state.not_taken:\n",
    "            new_state = State(curr_state.taken ^ {action}, curr_state.not_taken ^ {action}) #using XOR for both operations\n",
    "            cost = f(new_state)\n",
    "            frontier.put((cost, new_state))\n",
    "        _, curr_state = frontier.get()\n",
    "    if verbose:\n",
    "        print(\"Found solution\", curr_state.taken ,\"in\", counter, \"steps.\\nCost:\", len(curr_state.taken))\n",
    "        draw_sol(curr_state.taken)\n",
    "    \n",
    "    return len(curr_state.taken), counter"
   ]
  },
  {
   "cell_type": "markdown",
   "metadata": {},
   "source": [
    "## Breadth First\n"
   ]
  },
  {
   "cell_type": "code",
   "execution_count": 703,
   "metadata": {},
   "outputs": [
    {
     "name": "stdout",
     "output_type": "stream",
     "text": [
      "Found solution {51, 43} in 1568 steps.\n",
      "Cost: 2\n"
     ]
    },
    {
     "data": {
      "image/png": "[encoded data removed]",
      "text/plain": [
       "<Figure size 640x480 with 1 Axes>"
      ]
     },
     "metadata": {},
     "output_type": "display_data"
    }
   ],
   "source": [
    "bf_cost, bf_steps = find_solution()"
   ]
  },
  {
   "cell_type": "markdown",
   "metadata": {},
   "source": [
    "## Greedy Best First"
   ]
  },
  {
   "cell_type": "code",
   "execution_count": 704,
   "metadata": {},
   "outputs": [
    {
     "name": "stdout",
     "output_type": "stream",
     "text": [
      "Found solution {1, 59, 13} in 3 steps.\n",
      "Cost: 3\n"
     ]
    },
    {
     "data": {
      "image/png": "[encoded data removed]",
      "text/plain": [
       "<Figure size 640x480 with 1 Axes>"
      ]
     },
     "metadata": {},
     "output_type": "display_data"
    }
   ],
   "source": [
    "gbf_cost, gbf_steps = find_solution(distance)"
   ]
  },
  {
   "cell_type": "markdown",
   "metadata": {},
   "source": [
    "# A*\n",
    "\n",
    "The metric used to calculate the priority is\n",
    "\n",
    "    f(n) = g(n) + h(n)\n",
    "\n",
    "- g is the cost\n",
    "- h is the heuristic (distance)"
   ]
  },
  {
   "cell_type": "markdown",
   "metadata": {},
   "source": [
    "## First approach\n",
    "\n",
    "- g = number of sets taken\n",
    "- h = number of spots left to fill"
   ]
  },
  {
   "cell_type": "code",
   "execution_count": 705,
   "metadata": {},
   "outputs": [
    {
     "name": "stdout",
     "output_type": "stream",
     "text": [
      "Found solution {1, 59, 13} in 4 steps.\n",
      "Cost: 3\n"
     ]
    },
    {
     "data": {
      "image/png": "[encoded data removed]",
      "text/plain": [
       "<Figure size 640x480 with 1 Axes>"
      ]
     },
     "metadata": {},
     "output_type": "display_data"
    }
   ],
   "source": [
    "find_solution(lambda s: distance(s) + len(s.taken));"
   ]
  },
  {
   "cell_type": "markdown",
   "metadata": {},
   "source": [
    "### Observations:\n",
    "The first approach doesn't provide any improvement when compared to greedy best first."
   ]
  },
  {
   "cell_type": "markdown",
   "metadata": {},
   "source": [
    "## Adding a weight to g(n)\n",
    "Let's try adding a weight to each edge traversed."
   ]
  },
  {
   "cell_type": "code",
   "execution_count": 706,
   "metadata": {},
   "outputs": [
    {
     "name": "stdout",
     "output_type": "stream",
     "text": [
      "w = 1 steps: 4 cost: 3\n",
      "w = 2 steps: 7 cost: 3\n",
      "w = 3 steps: 15 cost: 3\n",
      "w = 4 steps: 31 cost: 3\n",
      "w = 5 steps: 29 cost: 2\n"
     ]
    }
   ],
   "source": [
    "costs = []\n",
    "steps = []\n",
    "w = 0\n",
    "curr_cost = None\n",
    "while curr_cost is None or curr_cost > bf_cost:\n",
    "    w += 1\n",
    "    curr_cost, curr_steps = find_solution(lambda s: distance(s) + w * len(s.taken), verbose=False)\n",
    "    print(\"w =\", w, \"steps:\", curr_steps, \"cost:\", curr_cost)\n",
    "    costs.append(curr_cost)\n",
    "    steps.append(curr_steps)\n",
    "\n",
    "MAX_WEIGHT = len(costs) + 1"
   ]
  },
  {
   "cell_type": "code",
   "execution_count": 707,
   "metadata": {},
   "outputs": [
    {
     "data": {
      "image/png": "[encoded data removed]",
      "text/plain": [
       "<Figure size 640x480 with 1 Axes>"
      ]
     },
     "metadata": {},
     "output_type": "display_data"
    }
   ],
   "source": [
    "plt.plot(range(1, MAX_WEIGHT), [bf_cost for _ in range(1, MAX_WEIGHT)], label=\"g(n)\")\n",
    "plt.plot(range(1, MAX_WEIGHT), [gbf_cost for _ in range(1, MAX_WEIGHT)], label=\"h(n)\")\n",
    "plt.plot(range(1, MAX_WEIGHT), costs, label=\"w*g(n) + h(n)\")\n",
    "plt.xticks(np.arange(1, MAX_WEIGHT))\n",
    "plt.xlabel(\"w\")\n",
    "plt.ylabel(\"Sets taken\")\n",
    "plt.legend(title=\"f(n):\");"
   ]
  },
  {
   "cell_type": "code",
   "execution_count": 708,
   "metadata": {},
   "outputs": [
    {
     "data": {
      "image/png": "[encoded data removed]",
      "text/plain": [
       "<Figure size 640x480 with 1 Axes>"
      ]
     },
     "metadata": {},
     "output_type": "display_data"
    }
   ],
   "source": [
    "plt.plot(range(1, MAX_WEIGHT), [bf_steps for _ in range(1, MAX_WEIGHT)], label=\"g(n)\")\n",
    "plt.plot(range(1, MAX_WEIGHT), [gbf_steps for _ in range(1, MAX_WEIGHT)], label=\"h(n)\")\n",
    "plt.plot(range(1, MAX_WEIGHT), steps, label=\"w*g(n)+h(n)\")\n",
    "plt.xticks(np.arange(1, MAX_WEIGHT))\n",
    "plt.xlabel(\"w\")\n",
    "plt.ylabel(\"Steps to find solution\")\n",
    "plt.legend(title=\"f(n):\");"
   ]
  },
  {
   "cell_type": "markdown",
   "metadata": {},
   "source": [
    "### Observations\n",
    "Predictably, as w increases, the algorithm behaves more like uniform-cost search (becomes slower), however it reaches an optimal solution with relatively low values of w."
   ]
  }
 ],
 "metadata": {
  "kernelspec": {
   "display_name": "venv",
   "language": "python",
   "name": "python3"
  },
  "language_info": {
   "codemirror_mode": {
    "name": "ipython",
    "version": 3
   },
   "file_extension": ".py",
   "mimetype": "text/x-python",
   "name": "python",
   "nbconvert_exporter": "python",
   "pygments_lexer": "ipython3",
   "version": "3.12.0"
  }
 },
 "nbformat": 4,
 "nbformat_minor": 2
}
