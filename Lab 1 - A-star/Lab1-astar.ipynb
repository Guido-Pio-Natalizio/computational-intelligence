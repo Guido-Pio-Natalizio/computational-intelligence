{
 "cells": [
  {
   "cell_type": "markdown",
   "metadata": {},
   "source": [
    "## Lab 1 - A-star\n",
    "\n",
    "Implement the A* to the set cover problem"
   ]
  },
  {
   "cell_type": "code",
   "execution_count": 1,
   "metadata": {},
   "outputs": [],
   "source": [
    "import numpy as np\n",
    "from random import random\n",
    "from functools import reduce\n",
    "import queue\n",
    "import matplotlib.pyplot as plt\n",
    "from collections import namedtuple\n",
    "import math\n",
    "from tqdm import tqdm"
   ]
  },
  {
   "cell_type": "markdown",
   "metadata": {},
   "source": [
    "### Set cover definition\n",
    "\n",
    "Given a set $\\mathcal{U}$ (universe) of $u$ elements, and a collection $\\mathcal{S}$ of $s$ subsets whose union equals the universe, we want to find a collection $\\mathcal{C}\\subseteq\\mathcal{S}$ of size $c \\leq s$ such that the union of all elements in $\\mathcal{C}$ is equal to $\\mathcal{U}$.\n",
    "Our objective is to minimize $c$.\n",
    "\n",
    "In the code, $u$ is referred as `PROBLEM_SIZE`, $s$ is referred as `NUM_SETS`.  \n",
    "Moreover, we added a parameter $p$ (`P` in the code below) that indicates the probability of a given element being present in any of the elements of $\\mathcal{S}$."
   ]
  },
  {
   "cell_type": "code",
   "execution_count": 2,
   "metadata": {},
   "outputs": [],
   "source": [
    "PROBLEM_SIZE = 25\n",
    "NUM_SETS = 64\n",
    "State = namedtuple('state', ['taken', 'not_taken'])\n",
    "P = 0.5\n",
    "SETS = tuple(np.array([random() < P for _ in range(PROBLEM_SIZE)]) for _ in range(NUM_SETS))"
   ]
  },
  {
   "cell_type": "code",
   "execution_count": 3,
   "metadata": {},
   "outputs": [
    {
     "data": {
      "image/png": "[encoded data removed]",
      "text/plain": [
       "<Figure size 640x480 with 1 Axes>"
      ]
     },
     "metadata": {},
     "output_type": "display_data"
    }
   ],
   "source": [
    "def draw_sol(map): #visualize a subset of S as a grid of pixels. Each row is a set, black pixels are the elements taken in that set.\n",
    "    plt.imshow(map, cmap=\"binary\")\n",
    "    ax = plt.gca()\n",
    "    ax.get_xaxis().set_visible(False)\n",
    "    ax.get_yaxis().set_visible(False)\n",
    "    plt.show();\n",
    "\n",
    "draw_sol(np.vstack([SETS[i] for i in range(NUM_SETS)]))"
   ]
  },
  {
   "cell_type": "code",
   "execution_count": 4,
   "metadata": {},
   "outputs": [],
   "source": [
    "def draw_plots(size, plots, xlabel=\"x\", ylabel=\"y\", legend_title=\" \"): # draw some plots and show them in a graph\n",
    "    for label in plots.keys():\n",
    "        plt.plot(len(plots[label]), plots[label], label=label)\n",
    "    plt.xlabel(xlabel)\n",
    "    plt.ylabel(ylabel)\n",
    "    plt.xticks(np.arange(1, size))\n",
    "    plt.legend(title=legend_title)\n",
    "    plt.show()"
   ]
  },
  {
   "cell_type": "code",
   "execution_count": 5,
   "metadata": {},
   "outputs": [],
   "source": [
    "def goal_check(state): # function to check if we found a set cover\n",
    "    return len(state.taken) > 0 and np.all(reduce(np.logical_or, [SETS[i] for i in state.taken])) \n",
    "\n",
    "assert goal_check(State(set(range(NUM_SETS)), set())), \"Problem not solvable\" # check if the problem is solvable"
   ]
  },
  {
   "cell_type": "markdown",
   "metadata": {},
   "source": [
    "The code below is an implementation of best-first search.\n",
    "`f` denotes the evaluation function used to calculate the priority. (Nodes with smaller values of f are expanded first)  "
   ]
  },
  {
   "cell_type": "code",
   "execution_count": 6,
   "metadata": {},
   "outputs": [],
   "source": [
    "def find_solution(f = lambda s: len(s.taken), verbose=True, ubound=10000): #f is the function that calculates the cost of reaching a state\n",
    "    frontier = queue.PriorityQueue()\n",
    "    frontier.put((0, State(set(), set(range(NUM_SETS)))))  #initial state\n",
    "    _, curr_state = frontier.get()\n",
    "    counter = 0\n",
    "    while not goal_check(curr_state):\n",
    "        counter += 1\n",
    "        if ubound and ubound < counter:\n",
    "            del frontier\n",
    "            print(\"Computation timed out\")\n",
    "            return -1, counter\n",
    "        for action in curr_state.not_taken:\n",
    "            new_state = State(curr_state.taken ^ {action}, curr_state.not_taken ^ {action}) #using XOR for both operations\n",
    "            frontier.put((f(new_state), new_state))\n",
    "        _, curr_state = frontier.get()\n",
    "    if verbose:\n",
    "        print(\"Found solution\", curr_state.taken ,\"in\", counter, \"steps.\\nCost:\", len(curr_state.taken))\n",
    "        draw_sol(np.vstack([SETS[i] for i in curr_state.taken]))\n",
    "    del frontier\n",
    "    return len(curr_state.taken), counter"
   ]
  },
  {
   "cell_type": "markdown",
   "metadata": {},
   "source": [
    "Let's calculate solutions with breadth-first and greedy best-first algorithms to use them as a benchmark:"
   ]
  },
  {
   "cell_type": "markdown",
   "metadata": {},
   "source": [
    "## Breadth First\n"
   ]
  },
  {
   "cell_type": "markdown",
   "metadata": {},
   "source": [
    "The evaluation function is defined as:\n",
    "$$f(n) = g(n)$$\n",
    "$g(n)$ is the number of edges traversed to reach the node $n$."
   ]
  },
  {
   "cell_type": "code",
   "execution_count": 7,
   "metadata": {},
   "outputs": [
    {
     "name": "stdout",
     "output_type": "stream",
     "text": [
      "Found solution {31, 63} in 76 steps.\n",
      "Cost: 2\n"
     ]
    },
    {
     "data": {
      "image/png": "[encoded data removed]",
      "text/plain": [
       "<Figure size 640x480 with 1 Axes>"
      ]
     },
     "metadata": {},
     "output_type": "display_data"
    }
   ],
   "source": [
    "bf_cost, bf_steps = find_solution()"
   ]
  },
  {
   "cell_type": "markdown",
   "metadata": {},
   "source": [
    "## Greedy Best First"
   ]
  },
  {
   "cell_type": "markdown",
   "metadata": {},
   "source": [
    "The evaluation function is defined as \n",
    "$$f(n) = h(n) $$ \n",
    "$h_1(n)$ is defined as the number of elements of $\\mathcal{U}$ that are missing from $\\mathcal{C}_n$, where $\\mathcal{C}_n$ is the collection of sets taken at node $n$."
   ]
  },
  {
   "cell_type": "code",
   "execution_count": 8,
   "metadata": {},
   "outputs": [],
   "source": [
    "def covered(state):\n",
    "    return reduce(np.logical_or, [SETS[i] for i in state.taken], [False for _ in range(PROBLEM_SIZE)])"
   ]
  },
  {
   "cell_type": "code",
   "execution_count": 9,
   "metadata": {},
   "outputs": [],
   "source": [
    "def heur1(state):\n",
    "    return np.sum(np.logical_not(covered(state)))"
   ]
  },
  {
   "cell_type": "code",
   "execution_count": 10,
   "metadata": {},
   "outputs": [
    {
     "name": "stdout",
     "output_type": "stream",
     "text": [
      "Found solution {62, 30} in 2 steps.\n",
      "Cost: 2\n"
     ]
    },
    {
     "data": {
      "image/png": "[encoded data removed]",
      "text/plain": [
       "<Figure size 640x480 with 1 Axes>"
      ]
     },
     "metadata": {},
     "output_type": "display_data"
    }
   ],
   "source": [
    "gbf_cost, gbf_steps = find_solution(heur1)"
   ]
  },
  {
   "cell_type": "markdown",
   "metadata": {},
   "source": [
    "# A*\n",
    "\n",
    "The evaluation function is defined as\n",
    "\n",
    "$$f(n) = g(n) + h(n)$$\n",
    "\n",
    "- $g(n)$ is the cost of traversing an edge\n",
    "- $h(n)$ is a heuristic distance value"
   ]
  },
  {
   "cell_type": "markdown",
   "metadata": {},
   "source": [
    "## First approach\n",
    "\n",
    "Let's try using $h_1(n)$ as a heuristic for the A* algorithm."
   ]
  },
  {
   "cell_type": "code",
   "execution_count": 11,
   "metadata": {},
   "outputs": [
    {
     "name": "stdout",
     "output_type": "stream",
     "text": [
      "Found solution {62, 30} in 2 steps.\n",
      "Cost: 2\n"
     ]
    },
    {
     "data": {
      "image/png": "[encoded data removed]",
      "text/plain": [
       "<Figure size 640x480 with 1 Axes>"
      ]
     },
     "metadata": {},
     "output_type": "display_data"
    }
   ],
   "source": [
    "a1_cost, a1_steps = find_solution(lambda s: heur1(s) + len(s.taken))"
   ]
  },
  {
   "cell_type": "markdown",
   "metadata": {},
   "source": [
    "### Observations:\n",
    "The first approach doesn't provide any improvement when compared to greedy best first. In particular, it doesn't always find an optimal solution. This may suggest us that the heuristic $h_1$ is not admissible."
   ]
  },
  {
   "cell_type": "markdown",
   "metadata": {},
   "source": [
    "## Changing heuristics\n",
    "Let's try another $h(n)$.  \n",
    "$h_1(n)$ assumed that, given a node $n$ and being $\\mathcal{C}_n$ the collection of sets taken at node $n$, we need to traverse at least $m = u - \\#\\mathcal{C}_n$ nodes to find a solution starting from $n$.  \n",
    "This is generally false.  \n",
    "  \n",
    "The expected number of elements of $\\mathcal{U}$ in a random element $\\mathcal{X}$ of $\\mathcal{S}$ is:\n",
    "$$E[{\\mathcal{\\#X}}] = p\\#\\mathcal{U}$$  \n",
    "Where $p$ is the (uniform) probability of a given element being present in any of the subsets of $\\mathcal{S}$.  \n",
    "We can change the heuristic by defining\n",
    "$$h_2(n) = \\frac{h_1(n)}{E[{\\mathcal{\\#X}}]}$$"
   ]
  },
  {
   "cell_type": "code",
   "execution_count": 12,
   "metadata": {},
   "outputs": [],
   "source": [
    "def heur2(state):\n",
    "    return math.ceil(heur1(state)/(P * PROBLEM_SIZE))"
   ]
  },
  {
   "cell_type": "code",
   "execution_count": 13,
   "metadata": {},
   "outputs": [
    {
     "name": "stdout",
     "output_type": "stream",
     "text": [
      "Found solution {60, 30} in 5 steps.\n",
      "Cost: 2\n"
     ]
    },
    {
     "data": {
      "image/png": "[encoded data removed]",
      "text/plain": [
       "<Figure size 640x480 with 1 Axes>"
      ]
     },
     "metadata": {},
     "output_type": "display_data"
    }
   ],
   "source": [
    "gbf2_cost, gbf2_steps = find_solution(heur2)"
   ]
  },
  {
   "cell_type": "code",
   "execution_count": 14,
   "metadata": {},
   "outputs": [
    {
     "name": "stdout",
     "output_type": "stream",
     "text": [
      "Found solution {60, 30} in 10 steps.\n",
      "Cost: 2\n"
     ]
    },
    {
     "data": {
      "image/png": "[encoded data removed]",
      "text/plain": [
       "<Figure size 640x480 with 1 Axes>"
      ]
     },
     "metadata": {},
     "output_type": "display_data"
    }
   ],
   "source": [
    "a2_cost, a2_steps = find_solution(lambda s: len(s.taken) + heur2(s))"
   ]
  },
  {
   "cell_type": "markdown",
   "metadata": {},
   "source": [
    "This heuristic is still not optimistic, because there may be some elements of $\\mathcal{S}$ bigger than $E[\\mathcal{\\#X}]$.  \n",
    "Let's try another heuristic.  \n",
    "Instead of using an expected value for the division, we calculate the size of the largest element of $\\mathcal{S}$."
   ]
  },
  {
   "cell_type": "code",
   "execution_count": 15,
   "metadata": {},
   "outputs": [],
   "source": [
    "def heur3(state):\n",
    "    largest_set_size = max(sum(s) for s in SETS)\n",
    "    return math.ceil(heur1(state)/largest_set_size)"
   ]
  },
  {
   "cell_type": "code",
   "execution_count": 16,
   "metadata": {},
   "outputs": [
    {
     "name": "stdout",
     "output_type": "stream",
     "text": [
      "Found solution {60, 30} in 6 steps.\n",
      "Cost: 2\n"
     ]
    },
    {
     "data": {
      "image/png": "[encoded data removed]",
      "text/plain": [
       "<Figure size 640x480 with 1 Axes>"
      ]
     },
     "metadata": {},
     "output_type": "display_data"
    }
   ],
   "source": [
    "gbf3_cost, gbf3_steps = find_solution(heur3)"
   ]
  },
  {
   "cell_type": "code",
   "execution_count": 17,
   "metadata": {},
   "outputs": [
    {
     "name": "stdout",
     "output_type": "stream",
     "text": [
      "Found solution {63, 31} in 16 steps.\n",
      "Cost: 2\n"
     ]
    },
    {
     "data": {
      "image/png": "[encoded data removed]",
      "text/plain": [
       "<Figure size 640x480 with 1 Axes>"
      ]
     },
     "metadata": {},
     "output_type": "display_data"
    }
   ],
   "source": [
    "a3_cost, a3_steps = find_solution(lambda s: len(s.taken) + heur3(s))"
   ]
  },
  {
   "cell_type": "markdown",
   "metadata": {},
   "source": [
    "Let's try a couple more heuristics.  \n",
    "Instead of checking the largest element of $\\mathcal{S}$, we look for the one with the most element missing from our state."
   ]
  },
  {
   "cell_type": "code",
   "execution_count": 18,
   "metadata": {},
   "outputs": [],
   "source": [
    "def heur4(state):\n",
    "    current_cover = covered(state)\n",
    "    if np.all(current_cover):\n",
    "        return 0\n",
    "    missing = [np.logical_and(np.logical_not(current_cover), s) for s in SETS]\n",
    "    largest_missing = max(sum(missing))\n",
    "    return math.ceil(sum(np.logical_not(current_cover)) / largest_missing)"
   ]
  },
  {
   "cell_type": "code",
   "execution_count": 19,
   "metadata": {},
   "outputs": [
    {
     "name": "stdout",
     "output_type": "stream",
     "text": [
      "Found solution {60, 30} in 6 steps.\n",
      "Cost: 2\n"
     ]
    },
    {
     "data": {
      "image/png": "[encoded data removed]",
      "text/plain": [
       "<Figure size 640x480 with 1 Axes>"
      ]
     },
     "metadata": {},
     "output_type": "display_data"
    },
    {
     "name": "stdout",
     "output_type": "stream",
     "text": [
      "Found solution {63, 31} in 16 steps.\n",
      "Cost: 2\n"
     ]
    },
    {
     "data": {
      "image/png": "[encoded data removed]",
      "text/plain": [
       "<Figure size 640x480 with 1 Axes>"
      ]
     },
     "metadata": {},
     "output_type": "display_data"
    }
   ],
   "source": [
    "gbf4_cost, gbf4_steps = find_solution(heur4)\n",
    "a4_cost, a4_steps = find_solution(lambda s: len(s.taken) + heur4(s))"
   ]
  },
  {
   "cell_type": "markdown",
   "metadata": {},
   "source": [
    "Instead of considering the same element of $\\mathcal{S}$ multiple times, we count the minimum number of _distinct_ element of $\\mathcal{S}$ that we need for the solution,"
   ]
  },
  {
   "cell_type": "code",
   "execution_count": 20,
   "metadata": {},
   "outputs": [],
   "source": [
    "def heur5(state):\n",
    "    current_cover = covered(state)\n",
    "    if np.all(current_cover):\n",
    "        return 0\n",
    "    missing_size = sum(np.logical_not(current_cover))\n",
    "    missing = [np.logical_and(np.logical_not(current_cover), s) for s in SETS]\n",
    "    missing = sorted(missing, key=sum, reverse=True)\n",
    "    taken = 1\n",
    "    while sum(sum(missing[:taken])) < missing_size:\n",
    "        taken += 1\n",
    "    return taken"
   ]
  },
  {
   "cell_type": "code",
   "execution_count": 21,
   "metadata": {},
   "outputs": [
    {
     "name": "stdout",
     "output_type": "stream",
     "text": [
      "Found solution {60, 30} in 2 steps.\n",
      "Cost: 2\n"
     ]
    },
    {
     "data": {
      "image/png": "[encoded data removed]",
      "text/plain": [
       "<Figure size 640x480 with 1 Axes>"
      ]
     },
     "metadata": {},
     "output_type": "display_data"
    },
    {
     "name": "stdout",
     "output_type": "stream",
     "text": [
      "Found solution {60, 30} in 4 steps.\n",
      "Cost: 2\n"
     ]
    },
    {
     "data": {
      "image/png": "[encoded data removed]",
      "text/plain": [
       "<Figure size 640x480 with 1 Axes>"
      ]
     },
     "metadata": {},
     "output_type": "display_data"
    }
   ],
   "source": [
    "gbf5_cost, gbf5_steps = find_solution(heur5)\n",
    "a5_cost, a5_steps = find_solution(lambda s: len(s.taken) + heur5(s))"
   ]
  },
  {
   "cell_type": "markdown",
   "metadata": {},
   "source": [
    "Whenever we decide to consider an element, we recalculate the missing element from what would be the new solution."
   ]
  },
  {
   "cell_type": "code",
   "execution_count": 22,
   "metadata": {},
   "outputs": [],
   "source": [
    "def heur6(state):\n",
    "    def missing(cover):\n",
    "        missing = [np.logical_and(np.logical_not(cover), s) for s in SETS]\n",
    "        return max(missing, key=sum)\n",
    "    cover = covered(state)\n",
    "    if np.all(cover):\n",
    "        return 0\n",
    "    taken = 1\n",
    "    while not np.all(cover):\n",
    "        taken += 1\n",
    "        cover = np.logical_or(cover, missing(cover))\n",
    "    return taken"
   ]
  },
  {
   "cell_type": "code",
   "execution_count": 23,
   "metadata": {},
   "outputs": [
    {
     "name": "stdout",
     "output_type": "stream",
     "text": [
      "Found solution"
     ]
    },
    {
     "name": "stdout",
     "output_type": "stream",
     "text": [
      " {60, 30} in 2 steps.\n",
      "Cost: 2\n"
     ]
    },
    {
     "data": {
      "image/png": "[encoded data removed]",
      "text/plain": [
       "<Figure size 640x480 with 1 Axes>"
      ]
     },
     "metadata": {},
     "output_type": "display_data"
    },
    {
     "name": "stdout",
     "output_type": "stream",
     "text": [
      "Found solution {60, 30} in 2 steps.\n",
      "Cost: 2\n"
     ]
    },
    {
     "data": {
      "image/png": "[encoded data removed]",
      "text/plain": [
       "<Figure size 640x480 with 1 Axes>"
      ]
     },
     "metadata": {},
     "output_type": "display_data"
    }
   ],
   "source": [
    "gbf6_cost, gbf6_steps = find_solution(heur6)\n",
    "a6_cost, a6_steps = find_solution(lambda s: len(s.taken) + heur6(s))"
   ]
  },
  {
   "cell_type": "markdown",
   "metadata": {},
   "source": [
    "Let's compare the results"
   ]
  },
  {
   "cell_type": "code",
   "execution_count": 24,
   "metadata": {},
   "outputs": [
    {
     "data": {
      "image/png": "[encoded data removed]",
      "text/plain": [
       "<Figure size 640x480 with 1 Axes>"
      ]
     },
     "metadata": {},
     "output_type": "display_data"
    }
   ],
   "source": [
    "plt.plot(bf_steps, 0, 'ko', label=\"$g(n)$\")\n",
    "plt.plot(gbf_steps, gbf_cost - bf_cost, 'rs', label=\"$h_1$(n)\")\n",
    "plt.plot(a1_steps, a1_cost - bf_cost, 'r*', label=\"$g(n) + h_1(n)$\")\n",
    "plt.plot(gbf2_steps, gbf2_cost - bf_cost, 's', color=\"orange\", label=\"$h_2(n)$\")\n",
    "plt.plot(a2_steps, a2_cost - bf_cost, '*', color=\"orange\", label=\"$g(n) + h_2(n)$\")\n",
    "plt.plot(gbf3_steps, gbf3_cost - bf_cost, 'ys', label=\"$h_3(n)$\")\n",
    "plt.plot(a3_steps, a3_cost - bf_cost, 'y*', label=\"$g(n) + h_3(n)$\")\n",
    "plt.plot(gbf4_steps, gbf4_cost - bf_cost, 'gs', label=\"$h_4(n)$\")\n",
    "plt.plot(a4_steps, a4_cost - bf_cost, 'g*', label=\"$g(n) + h_4(n)$\")\n",
    "plt.plot(gbf5_steps, gbf5_cost - bf_cost, 'bs', label=\"$h_5(n)$\")\n",
    "plt.plot(a5_steps, a5_cost - bf_cost, 'b*', label=\"$g(n) + h_5(n)$\")\n",
    "plt.plot(gbf6_steps, gbf6_cost - bf_cost, 'ms', label=\"$h_6(n)$\")\n",
    "plt.plot(a6_steps, a6_cost - bf_cost, 'm*', label=\"$g(n) + h_6(n)$\")\n",
    "\n",
    "plt.xlabel(\"Steps\")\n",
    "plt.ylabel(\"Error\")\n",
    "plt.legend(title=\"f(n): \", bbox_to_anchor=(1,1), loc=\"upper left\")\n",
    "ax = plt.gca()\n",
    "ax.set_xscale('log')\n",
    "plt.show();"
   ]
  },
  {
   "cell_type": "markdown",
   "metadata": {},
   "source": [
    "### Observations\n",
    "- Some heuristics may be suited for GBF but not for A*, and viceversa\n",
    "- Stricter heuristics are in general less time expensive (in terms of steps), however the function used to calculate those heuristics may be more expensive themselves "
   ]
  },
  {
   "cell_type": "code",
   "execution_count": 34,
   "metadata": {},
   "outputs": [],
   "source": [
    "def draw_points(P, bfs_steps,  results):\n",
    "    plt.title(\"Path searching algorithm performance with $p$ = {}\".format(P))\n",
    "    plt.plot(np.average(bfs_steps), 0, 'ko', label=\"$g(n)$\")\n",
    "    plt.plot(np.average(results[0]), np.average(results[1]), 'rs', label=\"$h_1(n)$\")\n",
    "    plt.plot(np.average(results[2]), np.average(results[3]), 'r*', label=\"$g(n) + h_1(n)$\")\n",
    "    plt.plot(np.average(results[4]), np.average(results[5]), 's', color=\"orange\", label=\"$h_2(n)$\")\n",
    "    plt.plot(np.average(results[6]), np.average(results[7]), '*', color=\"orange\", label=\"$g(n) + h_2(n)$\")\n",
    "    plt.plot(np.average(results[8]), np.average(results[9]), 'ys', label=\"$h_3(n)$\")\n",
    "    plt.plot(np.average(results[10]), np.average(results[11]), 'y*', label=\"$g(n) + h_3(n)$\")\n",
    "    plt.plot(np.average(results[12]), np.average(results[13]), 'gs', label=\"$h_4(n)$\")\n",
    "    plt.plot(np.average(results[14]), np.average(results[15]), 'g*', label=\"$g(n) + h_4(n)$\")\n",
    "    plt.plot(np.average(results[16]), np.average(results[17]), 'bs', label=\"$h_5(n)$\")\n",
    "    plt.plot(np.average(results[18]), np.average(results[19]), 'b*', label=\"$g(n) + h_5(n)$\")\n",
    "    plt.plot(np.average(results[20]), np.average(results[21]), 'ms', label=\"$h_6(n)$\")\n",
    "    plt.plot(np.average(results[22]), np.average(results[23]), 'm*', label=\"$g(n) + h_6(n)$\")\n",
    "    plt.xlabel(\"Steps\")\n",
    "    plt.ylabel(\"Error\")\n",
    "    plt.legend(title=\"f(n): \", bbox_to_anchor=(1,1), loc=\"upper left\")\n",
    "    ax = plt.gca()\n",
    "    ax.set_xscale('log')\n",
    "    plt.show()"
   ]
  },
  {
   "cell_type": "code",
   "execution_count": 26,
   "metadata": {},
   "outputs": [
    {
     "name": "stderr",
     "output_type": "stream",
     "text": [
      "100%|██████████| 100/100 [2:58:16<00:00, 106.97s/it] \n",
      "100%|██████████| 100/100 [06:47<00:00,  4.08s/it]\n"
     ]
    }
   ],
   "source": [
    "NUM_SETS = 64\n",
    "PROBLEM_SIZE = 25\n",
    "fs = {\n",
    "    \"$h_1(n)$\": heur1,\n",
    "    \"$g(n) + h_1(n)$\": lambda s: w * len(s.taken) + heur1(s),\n",
    "    \"$h_2(n)$\": heur2,\n",
    "    \"$g(n) + h_2(n)$\": lambda s: w * len(s.taken) + heur2(s),\n",
    "    \"$h_3(n)$\": heur3,\n",
    "    \"$g(n) + h_3(n)$\": lambda s: w * len(s.taken) + heur3(s),\n",
    "    \"$h_4(n)$\": heur4,\n",
    "    \"$g(n) + h_4(n)$\": lambda s: w * len(s.taken) + heur4(s),\n",
    "    \"$h_5(n)$\": heur5,\n",
    "    \"$g(n) + h_5(n)$\": lambda s: w * len(s.taken) + heur5(s),\n",
    "    \"$h_6(n)$\": heur6,\n",
    "    \"$g(n) + h_6(n)$\": lambda s: w * len(s.taken) + heur6(s),\n",
    "}\n",
    "results = {}\n",
    "steps = {}\n",
    "for P in (0.5, 0.75):\n",
    "    results[P] =[[] for _ in range(len(fs.keys()) * 2)]\n",
    "    steps[P] = []\n",
    "    w = PROBLEM_SIZE/2 * P\n",
    "    for _ in tqdm(range(100), position=0, leave=True):\n",
    "        SETS = tuple(np.array([random() < P for _ in range(PROBLEM_SIZE)]) for _ in range(NUM_SETS))\n",
    "        assert goal_check(State(set(range(NUM_SETS)), set())), \"Problem not solvable\"\n",
    "        bfs_cost, bfs_steps = find_solution(verbose=False)\n",
    "        steps[P].append(bfs_steps)\n",
    "        for i, f in tqdm(enumerate(fs.keys()), position=1, leave=False):\n",
    "            res_c, res_s = find_solution(fs[f], verbose=False)\n",
    "            if res_c > -1:\n",
    "                results[P][2*i].append(res_s)\n",
    "                results[P][2*i+1].append(res_c - bfs_cost)"
   ]
  },
  {
   "cell_type": "code",
   "execution_count": 35,
   "metadata": {},
   "outputs": [
    {
     "data": {
      "image/png": "[encoded data removed]",
      "text/plain": [
       "<Figure size 640x480 with 1 Axes>"
      ]
     },
     "metadata": {},
     "output_type": "display_data"
    },
    {
     "data": {
      "image/png": "[encoded data removed]",
      "text/plain": [
       "<Figure size 640x480 with 1 Axes>"
      ]
     },
     "metadata": {},
     "output_type": "display_data"
    }
   ],
   "source": [
    "for p in results.keys():\n",
    "    draw_points(p, steps[p], results[p])"
   ]
  }
 ],
 "metadata": {
  "kernelspec": {
   "display_name": "venv",
   "language": "python",
   "name": "python3"
  },
  "language_info": {
   "codemirror_mode": {
    "name": "ipython",
    "version": 3
   },
   "file_extension": ".py",
   "mimetype": "text/x-python",
   "name": "python",
   "nbconvert_exporter": "python",
   "pygments_lexer": "ipython3",
   "version": "3.12.0"
  }
 },
 "nbformat": 4,
 "nbformat_minor": 2
}
