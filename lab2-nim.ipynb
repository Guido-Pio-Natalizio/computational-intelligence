{
 "cells": [
  {
   "cell_type": "markdown",
   "metadata": {
    "pycharm": {
     "name": "#%% md\n"
    }
   },
   "source": [
    "Copyright **`(c)`** 2022 Giovanni Squillero `<squillero@polito.it>`  \n",
    "[`https://github.com/squillero/computational-intelligence`](https://github.com/squillero/computational-intelligence)  \n",
    "Free for personal or classroom use; see [`LICENSE.md`](https://github.com/squillero/computational-intelligence/blob/master/LICENSE.md) for details.  \n"
   ]
  },
  {
   "cell_type": "markdown",
   "metadata": {
    "pycharm": {
     "name": "#%%\n"
    }
   },
   "source": [
    "# Lab 3: ES\n",
    "\n",
    "## Task\n",
    "\n",
    "Write agents able to play [*Nim*](https://en.wikipedia.org/wiki/Nim), with an arbitrary number of rows and an upper bound $k$ on the number of objects that can be removed in a turn (a.k.a., *subtraction game*).\n",
    "\n",
    "The goal of the game is to **avoid** taking the last object.\n",
    "\n",
    "* Task2.1: An agent using fixed rules based on *nim-sum* (i.e., an *expert system*)\n",
    "* Task2.2: An agent using evolved rules using ES\n",
    "\n",
    "## Instructions\n",
    "\n",
    "* Create the directory `lab2` inside your personal course repository for the course \n",
    "* Put a `README.md` and your solution (all the files, code and auxiliary data if needed)\n",
    "\n",
    "## Notes\n",
    "\n",
    "* Working in group is not only allowed, but recommended (see: [Ubuntu](https://en.wikipedia.org/wiki/Ubuntu_philosophy) and [Cooperative Learning](https://files.eric.ed.gov/fulltext/EJ1096789.pdf)). Collaborations must be explicitly declared in the `README.md`.\n",
    "* [Yanking](https://www.emacswiki.org/emacs/KillingAndYanking) from the internet is allowed, but sources must be explicitly declared in the `README.md`.\n",
    "\n"
   ]
  },
  {
   "cell_type": "code",
   "execution_count": 19,
   "metadata": {},
   "outputs": [],
   "source": [
    "import logging\n",
    "from pprint import pprint, pformat\n",
    "from collections import namedtuple\n",
    "import random\n",
    "from copy import deepcopy\n",
    "from tqdm import trange\n"
   ]
  },
  {
   "cell_type": "markdown",
   "metadata": {},
   "source": [
    "## The *Nim* and *Nimply* classes"
   ]
  },
  {
   "cell_type": "code",
   "execution_count": 20,
   "metadata": {},
   "outputs": [],
   "source": [
    "Nimply = namedtuple(\"Nimply\", \"row, num_objects\")\n"
   ]
  },
  {
   "cell_type": "code",
   "execution_count": 21,
   "metadata": {},
   "outputs": [],
   "source": [
    "class Nim:\n",
    "    def __init__(self, num_rows: int, k: int = None) -> None:\n",
    "        self._rows = [i * 2 + 1 for i in range(num_rows)]\n",
    "        self._k = k\n",
    "\n",
    "    def __bool__(self):\n",
    "        return sum(self._rows) > 0\n",
    "\n",
    "    def __str__(self):\n",
    "        return \"<\" + \" \".join(str(_) for _ in self._rows) + \">\"\n",
    "\n",
    "    @property\n",
    "    def rows(self) -> tuple:\n",
    "        return tuple(self._rows)\n",
    "\n",
    "    def nimming(self, ply: Nimply) -> None:\n",
    "        row, num_objects = ply\n",
    "        assert self._rows[row] >= num_objects\n",
    "        assert self._k is None or num_objects <= self._k\n",
    "        self._rows[row] -= num_objects\n"
   ]
  },
  {
   "cell_type": "markdown",
   "metadata": {},
   "source": [
    "## Sample (and silly) startegies "
   ]
  },
  {
   "cell_type": "code",
   "execution_count": 22,
   "metadata": {},
   "outputs": [],
   "source": [
    "def pure_random(state: Nim) -> Nimply:\n",
    "    \"\"\"A completely random move\"\"\"\n",
    "    row = random.choice([r for r, c in enumerate(state.rows) if c > 0])\n",
    "    num_objects = random.randint(1, state.rows[row])\n",
    "    return Nimply(row, num_objects)\n"
   ]
  },
  {
   "cell_type": "code",
   "execution_count": 23,
   "metadata": {},
   "outputs": [],
   "source": [
    "def gabriele(state: Nim) -> Nimply:\n",
    "    \"\"\"Pick always the maximum possible number of the lowest row\"\"\"\n",
    "    possible_moves = [(r, o) for r, c in enumerate(state.rows) for o in range(1, c + 1)]\n",
    "    return Nimply(*max(possible_moves, key=lambda m: (-m[0], m[1])))\n"
   ]
  },
  {
   "cell_type": "code",
   "execution_count": 24,
   "metadata": {},
   "outputs": [],
   "source": [
    "def adaptive(state: Nim) -> Nimply:\n",
    "    \"\"\"A strategy that can adapt its parameters\"\"\"\n",
    "    genome = {\"love_small\": 0.5}\n"
   ]
  },
  {
   "cell_type": "code",
   "execution_count": 25,
   "metadata": {},
   "outputs": [],
   "source": [
    "import numpy as np\n",
    "\n",
    "\n",
    "def nim_sum(state: Nim) -> int:\n",
    "    tmp = np.array([tuple(int(x) for x in f\"{c:032b}\") for c in state.rows])\n",
    "    xor = tmp.sum(axis=0) % 2\n",
    "    return int(\"\".join(str(_) for _ in xor), base=2)\n",
    "\n",
    "\n",
    "def analize(raw: Nim) -> dict:\n",
    "    cooked = dict()\n",
    "    cooked[\"possible_moves\"] = dict()\n",
    "    for ply in (Nimply(r, o) for r, c in enumerate(raw.rows) for o in range(1, c + 1)):\n",
    "        tmp = deepcopy(raw)\n",
    "        tmp.nimming(ply)\n",
    "        cooked[\"possible_moves\"][ply] = nim_sum(tmp)\n",
    "    return cooked\n",
    "\n",
    "\n",
    "def optimal(state: Nim) -> Nimply:\n",
    "    analysis = analize(state)\n",
    "    logging.debug(f\"analysis:\\n{pformat(analysis)}\")\n",
    "    spicy_moves = [ply for ply, ns in analysis[\"possible_moves\"].items() if ns != 0]\n",
    "    if not spicy_moves:\n",
    "        spicy_moves = list(analysis[\"possible_moves\"].keys())\n",
    "    ply = random.choice(spicy_moves)\n",
    "    return ply\n"
   ]
  },
  {
   "cell_type": "markdown",
   "metadata": {},
   "source": [
    "## Oversimplified match"
   ]
  },
  {
   "cell_type": "code",
   "execution_count": 26,
   "metadata": {},
   "outputs": [
    {
     "name": "stderr",
     "output_type": "stream",
     "text": [
      "INFO:root:init : <1 3 5 7 9>\n",
      "INFO:root:ply: player 0 plays Nimply(row=0, num_objects=1)\n",
      "INFO:root:status: <0 3 5 7 9>\n",
      "INFO:root:ply: player 1 plays Nimply(row=4, num_objects=5)\n",
      "INFO:root:status: <0 3 5 7 4>\n",
      "INFO:root:ply: player 0 plays Nimply(row=2, num_objects=4)\n",
      "INFO:root:status: <0 3 1 7 4>\n",
      "INFO:root:ply: player 1 plays Nimply(row=1, num_objects=1)\n",
      "INFO:root:status: <0 2 1 7 4>\n",
      "INFO:root:ply: player 0 plays Nimply(row=3, num_objects=3)\n",
      "INFO:root:status: <0 2 1 4 4>\n",
      "INFO:root:ply: player 1 plays Nimply(row=1, num_objects=1)\n",
      "INFO:root:status: <0 1 1 4 4>\n",
      "INFO:root:ply: player 0 plays Nimply(row=3, num_objects=2)\n",
      "INFO:root:status: <0 1 1 2 4>\n",
      "INFO:root:ply: player 1 plays Nimply(row=3, num_objects=2)\n",
      "INFO:root:status: <0 1 1 0 4>\n",
      "INFO:root:ply: player 0 plays Nimply(row=1, num_objects=1)\n",
      "INFO:root:status: <0 0 1 0 4>\n",
      "INFO:root:ply: player 1 plays Nimply(row=4, num_objects=3)\n",
      "INFO:root:status: <0 0 1 0 1>\n",
      "INFO:root:ply: player 0 plays Nimply(row=4, num_objects=1)\n",
      "INFO:root:status: <0 0 1 0 0>\n",
      "INFO:root:ply: player 1 plays Nimply(row=2, num_objects=1)\n",
      "INFO:root:status: <0 0 0 0 0>\n",
      "INFO:root:status: Player 0 won!\n"
     ]
    }
   ],
   "source": [
    "logging.getLogger().setLevel(logging.INFO)\n",
    "\n",
    "strategy = (optimal, pure_random)\n",
    "\n",
    "nim = Nim(5)\n",
    "logging.info(f\"init : {nim}\")\n",
    "player = 0\n",
    "while nim:\n",
    "    ply = strategy[player](nim)\n",
    "    logging.info(f\"ply: player {player} plays {ply}\")\n",
    "    nim.nimming(ply)\n",
    "    logging.info(f\"status: {nim}\")\n",
    "    player = 1 - player\n",
    "logging.info(f\"status: Player {player} won!\")\n"
   ]
  },
  {
   "cell_type": "markdown",
   "metadata": {},
   "source": [
    "## Evolution Strategies"
   ]
  },
  {
   "cell_type": "markdown",
   "metadata": {},
   "source": [
    "### Utils"
   ]
  },
  {
   "cell_type": "code",
   "execution_count": 27,
   "metadata": {},
   "outputs": [],
   "source": [
    "class Individual:\n",
    "    genotype:float  # a number between 0 and 1, it's the probability of choosing the move with the smallest non-zero nim sum at any given time\n",
    "    fitness: tuple\n",
    "\n",
    "    def __init__(self, genotype) -> None:\n",
    "        self.genotype = genotype\n",
    "\n",
    "    def __str__(self) -> str:\n",
    "        return f\"{self.genotype}: {self.fitness}\"\n",
    "\n",
    "    def phenotype(self, state: Nim) -> Nimply:\n",
    "        analysis = analize(state)\n",
    "        spicy_moves = [(ply, ns) for ply, ns in analysis[\"possible_moves\"].items() if ns != 0]\n",
    "        if not spicy_moves:\n",
    "            spicy_moves = list(analysis[\"possible_moves\"].keys())\n",
    "            return random.choice(spicy_moves)\n",
    "        if random.random() < self.genotype: # choose the move with the smallest non-zero nim sum\n",
    "            return min(spicy_moves, key = lambda i: i[1])[0]\n",
    "        return random.choice(spicy_moves)[0]"
   ]
  },
  {
   "cell_type": "code",
   "execution_count": 28,
   "metadata": {},
   "outputs": [],
   "source": [
    "def game(player1, player2=pure_random) -> (bool, int):  # plays a game against an opponent who randomly picks their move\n",
    "    nim = Nim(5)\n",
    "    strategy = (player1, player2)\n",
    "    player = random.choice((0,1))  # randomly select starting player\n",
    "    num_moves = 0\n",
    "    while nim:\n",
    "        num_moves += 1\n",
    "        ply = strategy[player](nim)\n",
    "        nim.nimming(ply)\n",
    "        player = not player\n",
    "    return not player, num_moves  # returns the losing player (1 if the winner is 0 and viceversa) and the duration of the game"
   ]
  },
  {
   "cell_type": "code",
   "execution_count": 29,
   "metadata": {},
   "outputs": [],
   "source": [
    "def fitness(individual:Individual):  # the fitness is calculated as the winrate and the average number of moves calculated over 100 games\n",
    "    winrate = 0\n",
    "    tot_moves = 0.0\n",
    "    for _ in range(100):\n",
    "        won, moves = game(individual.phenotype)\n",
    "        winrate += won\n",
    "        tot_moves += moves\n",
    "    return winrate, - tot_moves/100"
   ]
  },
  {
   "cell_type": "code",
   "execution_count": 30,
   "metadata": {},
   "outputs": [
    {
     "name": "stdout",
     "output_type": "stream",
     "text": [
      "0.6417509636735369 (89, -10.11)\n"
     ]
    }
   ],
   "source": [
    "ind = Individual(random.random())\n",
    "\n",
    "ind.fitness = fitness(ind)\n",
    "print(ind.genotype, ind.fitness)"
   ]
  },
  {
   "cell_type": "code",
   "execution_count": 31,
   "metadata": {},
   "outputs": [],
   "source": [
    "POPULATION_SIZE = 30\n",
    "OFFSPRING_SIZE = 10\n",
    "PARENTS_PER_CHILD = 2\n",
    "TOUR_SIZE = 2\n",
    "MUTATION_CHANCE = 0.05\n",
    "SIGMA = 0.2\n",
    "TOTAL_GENERATIONS = 100"
   ]
  },
  {
   "cell_type": "code",
   "execution_count": 32,
   "metadata": {},
   "outputs": [],
   "source": [
    "def mutate(ind: Individual):\n",
    "    return Individual(np.clip(np.random.normal(ind.genotype, SIGMA), 0, 1))"
   ]
  },
  {
   "cell_type": "code",
   "execution_count": 33,
   "metadata": {},
   "outputs": [],
   "source": [
    "def xover(individuals):\n",
    "    return Individual(np.average([i.genotype for i in individuals]))"
   ]
  },
  {
   "cell_type": "code",
   "execution_count": 34,
   "metadata": {},
   "outputs": [],
   "source": [
    "def tour(individuals):\n",
    "    tournament = [random.choice(individuals) for _ in range(TOUR_SIZE)]\n",
    "    champion = max(tournament, key=lambda i: i.fitness)\n",
    "    return champion"
   ]
  },
  {
   "cell_type": "code",
   "execution_count": 38,
   "metadata": {},
   "outputs": [],
   "source": [
    "# initialize the population\n",
    "def init_pop():\n",
    "    population = [Individual(random.random()) for _ in range(POPULATION_SIZE)]\n",
    "    for p in population:\n",
    "        p.fitness = fitness(p)\n",
    "    return population\n",
    "\n",
    "\n",
    "population = init_pop()"
   ]
  },
  {
   "cell_type": "markdown",
   "metadata": {},
   "source": [
    "## ($\\mu$ + $\\lambda$) ES"
   ]
  },
  {
   "cell_type": "code",
   "execution_count": 36,
   "metadata": {},
   "outputs": [
    {
     "name": "stdout",
     "output_type": "stream",
     "text": [
      "0.9760328053354482: (96, -9.75)\n",
      "0.9760328053354482: (96, -9.75)\n",
      "0.9760328053354482: (96, -9.75)\n",
      "0.9760328053354482: (96, -9.75)\n",
      "1.0: (98, -9.85)\n",
      "1.0: (98, -9.85)\n",
      "1.0: (98, -9.85)\n",
      "1.0: (98, -9.85)\n",
      "1.0: (98, -9.85)\n",
      "1.0: (98, -9.85)\n",
      "1.0: (98, -9.85)\n",
      "1.0: (98, -9.85)\n",
      "0.8971933258631208: (98, -9.8)\n",
      "0.8971933258631208: (98, -9.8)\n",
      "0.8971933258631208: (98, -9.8)\n",
      "0.8971933258631208: (98, -9.8)\n",
      "0.8971933258631208: (98, -9.8)\n",
      "0.8971933258631208: (98, -9.8)\n",
      "0.8971933258631208: (98, -9.8)\n",
      "0.9384271856757413: (99, -9.97)\n",
      "0.9384271856757413: (99, -9.97)\n",
      "0.9384271856757413: (99, -9.97)\n",
      "0.9384271856757413: (99, -9.97)\n",
      "0.9384271856757413: (99, -9.97)\n",
      "0.9384271856757413: (99, -9.97)\n",
      "0.9384271856757413: (99, -9.97)\n",
      "0.9384271856757413: (99, -9.97)\n",
      "0.9384271856757413: (99, -9.97)\n",
      "0.9384271856757413: (99, -9.97)\n",
      "0.9384271856757413: (99, -9.97)\n",
      "0.9384271856757413: (99, -9.97)\n",
      "0.9384271856757413: (99, -9.97)\n",
      "0.9384271856757413: (99, -9.97)\n",
      "0.9384271856757413: (99, -9.97)\n",
      "0.9384271856757413: (99, -9.97)\n",
      "0.9384271856757413: (99, -9.97)\n",
      "0.9384271856757413: (99, -9.97)\n",
      "0.9384271856757413: (99, -9.97)\n",
      "0.9384271856757413: (99, -9.97)\n",
      "0.9384271856757413: (99, -9.97)\n",
      "0.9384271856757413: (99, -9.97)\n",
      "0.9384271856757413: (99, -9.97)\n",
      "0.9384271856757413: (99, -9.97)\n",
      "0.9384271856757413: (99, -9.97)\n",
      "0.9384271856757413: (99, -9.97)\n",
      "0.9384271856757413: (99, -9.97)\n",
      "0.9384271856757413: (99, -9.97)\n",
      "0.9384271856757413: (99, -9.97)\n",
      "0.9384271856757413: (99, -9.97)\n",
      "0.9384271856757413: (99, -9.97)\n",
      "0.9384271856757413: (99, -9.97)\n",
      "0.9384271856757413: (99, -9.97)\n",
      "0.9384271856757413: (99, -9.97)\n",
      "0.9384271856757413: (99, -9.97)\n",
      "0.9384271856757413: (99, -9.97)\n",
      "0.9384271856757413: (99, -9.97)\n",
      "0.9384271856757413: (99, -9.97)\n",
      "0.9384271856757413: (99, -9.97)\n",
      "0.9454875934196456: (100, -9.85)\n",
      "0.9454875934196456: (100, -9.85)\n",
      "0.9454875934196456: (100, -9.85)\n",
      "0.9454875934196456: (100, -9.85)\n",
      "0.9454875934196456: (100, -9.85)\n",
      "0.9454875934196456: (100, -9.85)\n",
      "0.9454875934196456: (100, -9.85)\n",
      "0.9454875934196456: (100, -9.85)\n",
      "0.9454875934196456: (100, -9.85)\n",
      "0.9454875934196456: (100, -9.85)\n",
      "0.9454875934196456: (100, -9.85)\n",
      "0.9454875934196456: (100, -9.85)\n",
      "0.9454875934196456: (100, -9.85)\n",
      "0.9454875934196456: (100, -9.85)\n",
      "0.9454875934196456: (100, -9.85)\n",
      "0.9454875934196456: (100, -9.85)\n",
      "0.9454875934196456: (100, -9.85)\n",
      "0.9454875934196456: (100, -9.85)\n",
      "0.9454875934196456: (100, -9.85)\n",
      "0.9454875934196456: (100, -9.85)\n",
      "0.9454875934196456: (100, -9.85)\n",
      "0.9454875934196456: (100, -9.85)\n",
      "0.9454875934196456: (100, -9.85)\n",
      "0.9454875934196456: (100, -9.85)\n",
      "0.9454875934196456: (100, -9.85)\n",
      "0.9454875934196456: (100, -9.85)\n",
      "0.9454875934196456: (100, -9.85)\n",
      "0.9454875934196456: (100, -9.85)\n",
      "0.9454875934196456: (100, -9.85)\n",
      "0.9454875934196456: (100, -9.85)\n",
      "0.9454875934196456: (100, -9.85)\n",
      "0.9454875934196456: (100, -9.85)\n",
      "0.9454875934196456: (100, -9.85)\n",
      "0.9454875934196456: (100, -9.85)\n",
      "0.9454875934196456: (100, -9.85)\n",
      "0.9454875934196456: (100, -9.85)\n",
      "0.9454875934196456: (100, -9.85)\n",
      "0.9454875934196456: (100, -9.85)\n",
      "0.9454875934196456: (100, -9.85)\n",
      "0.9454875934196456: (100, -9.85)\n",
      "0.9454875934196456: (100, -9.85)\n",
      "0.9454875934196456: (100, -9.85)\n"
     ]
    }
   ],
   "source": [
    "for generation in range(TOTAL_GENERATIONS):\n",
    "    offspring = list()\n",
    "    for _ in range(OFFSPRING_SIZE):\n",
    "        if random.random() < MUTATION_CHANCE: # mutate\n",
    "            parent = tour(population)\n",
    "            child = mutate(parent)\n",
    "        else:\n",
    "            parents = list()\n",
    "            for _ in range(PARENTS_PER_CHILD):\n",
    "                parents.append(tour(population))\n",
    "            child = xover(parents)\n",
    "        child.fitness = fitness(child)\n",
    "        offspring.append(child)\n",
    "    population.extend(offspring)\n",
    "    population.sort(key = lambda i: i.fitness, reverse=True)\n",
    "    population = population[: POPULATION_SIZE]\n",
    "    print(population[0])\n",
    "        \n"
   ]
  },
  {
   "cell_type": "markdown",
   "metadata": {},
   "source": [
    "## ($\\mu$, $\\lambda$) ES"
   ]
  },
  {
   "cell_type": "code",
   "execution_count": 39,
   "metadata": {},
   "outputs": [],
   "source": [
    "POPULATION_SIZE = 10\n",
    "OFFSPRING_SIZE = 30\n",
    "PARENTS_PER_CHILD = 2\n",
    "TOUR_SIZE = 2\n",
    "MUTATION_CHANCE = 0.05\n",
    "SIGMA = 0.2\n",
    "TOTAL_GENERATIONS = 100\n",
    "\n",
    "population = init_pop()"
   ]
  },
  {
   "cell_type": "code",
   "execution_count": 40,
   "metadata": {},
   "outputs": [
    {
     "name": "stdout",
     "output_type": "stream",
     "text": [
      "0.8680526670492053: (96, -10.0)\n",
      "0.8680526670492053: (97, -9.85)\n",
      "0.8680526670492053: (98, -10.11)\n",
      "0.9424098417244118: (95, -9.88)\n",
      "0.9340263335246026: (96, -9.78)\n",
      "0.9392532359955659: (97, -9.47)\n",
      "0.9243381222411395: (98, -9.87)\n",
      "0.921194306666211: (96, -9.82)\n",
      "0.921194306666211: (98, -9.61)\n",
      "0.9073222776312692: (96, -9.96)\n",
      "0.9140380052818605: (96, -10.04)\n",
      "0.9211543340794667: (97, -9.99)\n",
      "0.9268283504935139: (97, -9.58)\n",
      "0.9317972240097103: (96, -9.66)\n",
      "0.9317746847246935: (96, -9.97)\n",
      "0.94669755856185: (95, -9.9)\n",
      "0.9535801576740937: (98, -9.54)\n",
      "0.9544667326645633: (96, -9.71)\n",
      "0.9560588346415241: (96, -10.03)\n",
      "0.9703554840066456: (98, -10.01)\n",
      "0.965564131850255: (98, -9.67)\n",
      "0.9643141661751281: (97, -9.77)\n",
      "0.9643141661751281: (97, -9.96)\n",
      "0.9618638599751751: (95, -9.8)\n",
      "0.9624615275991428: (95, -9.62)\n",
      "0.9633881956544306: (97, -9.65)\n",
      "0.9631366826567739: (97, -9.75)\n",
      "0.9630581597804491: (96, -9.82)\n",
      "0.9630581597804491: (96, -9.61)\n",
      "0.9628165479767539: (97, -9.95)\n",
      "1.0: (97, -10.24)\n",
      "0.9813002300979874: (97, -9.78)\n",
      "0.971999814289848: (97, -10.09)\n",
      "0.9469696111607313: (97, -9.82)\n",
      "0.9766500221939177: (97, -9.83)\n",
      "0.9703862877687801: (94, -9.71)\n",
      "0.9777699493046643: (97, -9.73)\n",
      "0.9814815465945272: (96, -9.71)\n",
      "1.0: (97, -9.76)\n",
      "1.0: (99, -9.96)\n",
      "0.9720788917222891: (97, -9.7)\n",
      "0.9866679422076212: (98, -9.89)\n",
      "0.9860394458611446: (97, -9.69)\n",
      "0.9867176350706455: (97, -9.7)\n",
      "0.986378540465895: (96, -9.86)\n",
      "0.986378540465895: (98, -9.84)\n",
      "0.986378540465895: (98, -9.75)\n",
      "0.9896991316982336: (97, -10.01)\n",
      "0.9880388360820643: (98, -9.78)\n",
      "0.9880388360820643: (96, -9.75)\n",
      "0.9880600294948613: (96, -9.69)\n",
      "0.9940247163942314: (97, -10.11)\n",
      "0.9881123012035198: (95, -9.75)\n",
      "0.9897345081116753: (99, -9.53)\n",
      "0.9911490812001464: (97, -9.5)\n",
      "0.9933976711041917: (97, -9.85)\n",
      "1.0: (98, -10.01)\n",
      "0.9897164952228656: (96, -9.78)\n",
      "0.9911408339175548: (97, -9.83)\n",
      "0.991188477443018: (97, -9.79)\n",
      "0.9918643453741769: (95, -9.64)\n",
      "0.9919395791691163: (97, -9.85)\n",
      "0.9921778245061627: (97, -9.85)\n",
      "0.9919554098975097: (97, -9.74)\n",
      "0.9919236001275544: (97, -9.72)\n",
      "0.9919474574550209: (97, -9.83)\n",
      "0.9919524165050483: (97, -9.74)\n",
      "0.9150909484778409: (97, -10.1)\n",
      "0.9535216824914445: (96, -9.69)\n",
      "0.9919552758173837: (97, -10.16)\n",
      "0.9959805558411943: (99, -10.0)\n",
      "0.9919571689811755: (97, -9.94)\n",
      "0.9871529391020336: (98, -9.81)\n",
      "0.9881590029158086: (98, -9.63)\n",
      "0.9871529544587334: (97, -9.69)\n",
      "0.9849057339354333: (98, -9.67)\n",
      "0.9851572479692896: (98, -10.04)\n",
      "0.9824070051370395: (97, -9.81)\n",
      "0.9830316863768442: (97, -9.82)\n",
      "0.9823755646830653: (96, -9.89)\n",
      "1.0: (96, -9.85)\n",
      "0.9827387388905153: (97, -9.73)\n",
      "0.9956524552769465: (95, -9.63)\n",
      "0.9875311906010094: (96, -9.75)\n",
      "0.9894502800231335: (97, -9.66)\n",
      "0.9890341784024531: (96, -9.68)\n",
      "0.9890341784024531: (95, -9.63)\n",
      "0.9887942922246875: (95, -9.84)\n",
      "0.990470822148089: (97, -9.77)\n",
      "0.9903778925806763: (97, -9.63)\n",
      "0.9895860924026819: (98, -10.12)\n",
      "0.9899388341238431: (95, -9.47)\n",
      "0.9897142749973076: (98, -9.86)\n",
      "0.989573698006911: (96, -9.79)\n",
      "0.9911421899854309: (96, -10.08)\n",
      "0.9917212170234491: (96, -9.78)\n",
      "0.990449844661638: (97, -9.79)\n",
      "0.9910874281740163: (96, -9.6)\n",
      "0.9909133931773317: (97, -9.87)\n",
      "0.9909424999743469: (97, -9.63)\n"
     ]
    }
   ],
   "source": [
    "for generation in range(TOTAL_GENERATIONS):\n",
    "    offspring = list()\n",
    "    for _ in range(OFFSPRING_SIZE):\n",
    "        if random.random() < MUTATION_CHANCE: # mutate\n",
    "            parent = tour(population)\n",
    "            child = mutate(parent)\n",
    "        else:\n",
    "            parents = list()\n",
    "            for _ in range(PARENTS_PER_CHILD):\n",
    "                parents.append(tour(population))\n",
    "            child = xover(parents)\n",
    "        child.fitness = fitness(child)\n",
    "        offspring.append(child)\n",
    "    offspring.sort(key = lambda i: i.fitness, reverse=True)\n",
    "    population = offspring[: POPULATION_SIZE]\n",
    "    print(population[0])"
   ]
  }
 ],
 "metadata": {
  "kernelspec": {
   "display_name": "Python 3.10.7 ('ci22-dPIXJ0_o-py3.10')",
   "language": "python",
   "name": "python3"
  },
  "language_info": {
   "codemirror_mode": {
    "name": "ipython",
    "version": 3
   },
   "file_extension": ".py",
   "mimetype": "text/x-python",
   "name": "python",
   "nbconvert_exporter": "python",
   "pygments_lexer": "ipython3",
   "version": "3.12.0"
  },
  "vscode": {
   "interpreter": {
    "hash": "10197e8e2f2aa67e2c349105091c77f4cd384fce4877865f002d9ec653f96bc0"
   }
  }
 },
 "nbformat": 4,
 "nbformat_minor": 2
}
