{
 "cells": [
  {
   "cell_type": "markdown",
   "metadata": {
    "pycharm": {
     "name": "#%% md\n"
    }
   },
   "source": [
    "Copyright **`(c)`** 2022 Giovanni Squillero `<squillero@polito.it>`  \n",
    "[`https://github.com/squillero/computational-intelligence`](https://github.com/squillero/computational-intelligence)  \n",
    "Free for personal or classroom use; see [`LICENSE.md`](https://github.com/squillero/computational-intelligence/blob/master/LICENSE.md) for details.  \n"
   ]
  },
  {
   "cell_type": "markdown",
   "metadata": {
    "pycharm": {
     "name": "#%%\n"
    }
   },
   "source": [
    "# Lab 3: ES\n",
    "\n",
    "## Task\n",
    "\n",
    "Write agents able to play [*Nim*](https://en.wikipedia.org/wiki/Nim), with an arbitrary number of rows and an upper bound $k$ on the number of objects that can be removed in a turn (a.k.a., *subtraction game*).\n",
    "\n",
    "The goal of the game is to **avoid** taking the last object.\n",
    "\n",
    "* Task2.1: An agent using fixed rules based on *nim-sum* (i.e., an *expert system*)\n",
    "* Task2.2: An agent using evolved rules using ES\n",
    "\n",
    "## Instructions\n",
    "\n",
    "* Create the directory `lab2` inside your personal course repository for the course \n",
    "* Put a `README.md` and your solution (all the files, code and auxiliary data if needed)\n",
    "\n",
    "## Notes\n",
    "\n",
    "* Working in group is not only allowed, but recommended (see: [Ubuntu](https://en.wikipedia.org/wiki/Ubuntu_philosophy) and [Cooperative Learning](https://files.eric.ed.gov/fulltext/EJ1096789.pdf)). Collaborations must be explicitly declared in the `README.md`.\n",
    "* [Yanking](https://www.emacswiki.org/emacs/KillingAndYanking) from the internet is allowed, but sources must be explicitly declared in the `README.md`.\n",
    "\n"
   ]
  },
  {
   "cell_type": "code",
   "execution_count": 3,
   "metadata": {},
   "outputs": [],
   "source": [
    "import logging\n",
    "from pprint import pprint, pformat\n",
    "from collections import namedtuple\n",
    "import random\n",
    "from copy import deepcopy\n"
   ]
  },
  {
   "cell_type": "markdown",
   "metadata": {},
   "source": [
    "## The *Nim* and *Nimply* classes"
   ]
  },
  {
   "cell_type": "code",
   "execution_count": 4,
   "metadata": {},
   "outputs": [],
   "source": [
    "Nimply = namedtuple(\"Nimply\", \"row, num_objects\")\n"
   ]
  },
  {
   "cell_type": "code",
   "execution_count": 5,
   "metadata": {},
   "outputs": [],
   "source": [
    "class Nim:\n",
    "    def __init__(self, num_rows: int, k: int = None) -> None:\n",
    "        self._rows = [i * 2 + 1 for i in range(num_rows)]\n",
    "        self._k = k\n",
    "\n",
    "    def __bool__(self):\n",
    "        return sum(self._rows) > 0\n",
    "\n",
    "    def __str__(self):\n",
    "        return \"<\" + \" \".join(str(_) for _ in self._rows) + \">\"\n",
    "\n",
    "    @property\n",
    "    def rows(self) -> tuple:\n",
    "        return tuple(self._rows)\n",
    "\n",
    "    def nimming(self, ply: Nimply) -> None:\n",
    "        row, num_objects = ply\n",
    "        assert self._rows[row] >= num_objects\n",
    "        assert self._k is None or num_objects <= self._k\n",
    "        self._rows[row] -= num_objects\n"
   ]
  },
  {
   "cell_type": "markdown",
   "metadata": {},
   "source": [
    "## Sample (and silly) startegies "
   ]
  },
  {
   "cell_type": "code",
   "execution_count": 6,
   "metadata": {},
   "outputs": [],
   "source": [
    "def pure_random(state: Nim) -> Nimply:\n",
    "    \"\"\"A completely random move\"\"\"\n",
    "    row = random.choice([r for r, c in enumerate(state.rows) if c > 0])\n",
    "    num_objects = random.randint(1, state.rows[row])\n",
    "    return Nimply(row, num_objects)\n"
   ]
  },
  {
   "cell_type": "code",
   "execution_count": 7,
   "metadata": {},
   "outputs": [],
   "source": [
    "def gabriele(state: Nim) -> Nimply:\n",
    "    \"\"\"Pick always the maximum possible number of the lowest row\"\"\"\n",
    "    possible_moves = [(r, o) for r, c in enumerate(state.rows) for o in range(1, c + 1)]\n",
    "    return Nimply(*max(possible_moves, key=lambda m: (-m[0], m[1])))\n"
   ]
  },
  {
   "cell_type": "code",
   "execution_count": 8,
   "metadata": {},
   "outputs": [],
   "source": [
    "def adaptive(state: Nim) -> Nimply:\n",
    "    \"\"\"A strategy that can adapt its parameters\"\"\"\n",
    "    genome = {\"love_small\": 0.5}\n"
   ]
  },
  {
   "cell_type": "code",
   "execution_count": 9,
   "metadata": {},
   "outputs": [],
   "source": [
    "import numpy as np\n",
    "\n",
    "\n",
    "def nim_sum(state: Nim) -> int:\n",
    "    tmp = np.array([tuple(int(x) for x in f\"{c:032b}\") for c in state.rows])\n",
    "    xor = tmp.sum(axis=0) % 2\n",
    "    return int(\"\".join(str(_) for _ in xor), base=2)\n",
    "\n",
    "\n",
    "def analize(raw: Nim) -> dict:\n",
    "    cooked = dict()\n",
    "    cooked[\"possible_moves\"] = dict()\n",
    "    for ply in (Nimply(r, o) for r, c in enumerate(raw.rows) for o in range(1, c + 1)):\n",
    "        tmp = deepcopy(raw)\n",
    "        tmp.nimming(ply)\n",
    "        cooked[\"possible_moves\"][ply] = nim_sum(tmp)\n",
    "    return cooked\n",
    "\n",
    "\n",
    "def optimal(state: Nim) -> Nimply:\n",
    "    analysis = analize(state)\n",
    "    logging.debug(f\"analysis:\\n{pformat(analysis)}\")\n",
    "    spicy_moves = [ply for ply, ns in analysis[\"possible_moves\"].items() if ns != 0]\n",
    "    if not spicy_moves:\n",
    "        spicy_moves = list(analysis[\"possible_moves\"].keys())\n",
    "    ply = random.choice(spicy_moves)\n",
    "    return ply\n"
   ]
  },
  {
   "cell_type": "markdown",
   "metadata": {},
   "source": [
    "## Oversimplified match"
   ]
  },
  {
   "cell_type": "code",
   "execution_count": 10,
   "metadata": {},
   "outputs": [
    {
     "name": "stderr",
     "output_type": "stream",
     "text": [
      "INFO:root:init : <1 3 5 7 9>\n",
      "INFO:root:ply: player 0 plays Nimply(row=1, num_objects=1)\n",
      "INFO:root:status: <1 2 5 7 9>\n",
      "INFO:root:ply: player 1 plays Nimply(row=4, num_objects=7)\n",
      "INFO:root:status: <1 2 5 7 2>\n",
      "INFO:root:ply: player 0 plays Nimply(row=3, num_objects=5)\n",
      "INFO:root:status: <1 2 5 2 2>\n",
      "INFO:root:ply: player 1 plays Nimply(row=3, num_objects=1)\n",
      "INFO:root:status: <1 2 5 1 2>\n",
      "INFO:root:ply: player 0 plays Nimply(row=3, num_objects=1)\n",
      "INFO:root:status: <1 2 5 0 2>\n",
      "INFO:root:ply: player 1 plays Nimply(row=2, num_objects=3)\n",
      "INFO:root:status: <1 2 2 0 2>\n",
      "INFO:root:ply: player 0 plays Nimply(row=4, num_objects=2)\n",
      "INFO:root:status: <1 2 2 0 0>\n",
      "INFO:root:ply: player 1 plays Nimply(row=1, num_objects=2)\n",
      "INFO:root:status: <1 0 2 0 0>\n",
      "INFO:root:ply: player 0 plays Nimply(row=2, num_objects=2)\n",
      "INFO:root:status: <1 0 0 0 0>\n",
      "INFO:root:ply: player 1 plays Nimply(row=0, num_objects=1)\n",
      "INFO:root:status: <0 0 0 0 0>\n",
      "INFO:root:status: Player 0 won!\n"
     ]
    }
   ],
   "source": [
    "logging.getLogger().setLevel(logging.INFO)\n",
    "\n",
    "strategy = (optimal, pure_random)\n",
    "\n",
    "nim = Nim(5)\n",
    "logging.info(f\"init : {nim}\")\n",
    "player = 0\n",
    "while nim:\n",
    "    ply = strategy[player](nim)\n",
    "    logging.info(f\"ply: player {player} plays {ply}\")\n",
    "    nim.nimming(ply)\n",
    "    logging.info(f\"status: {nim}\")\n",
    "    player = 1 - player\n",
    "logging.info(f\"status: Player {player} won!\")\n"
   ]
  },
  {
   "cell_type": "markdown",
   "metadata": {},
   "source": [
    "## Genetic Strategies"
   ]
  },
  {
   "cell_type": "markdown",
   "metadata": {},
   "source": [
    "### Utils"
   ]
  },
  {
   "cell_type": "code",
   "execution_count": 11,
   "metadata": {},
   "outputs": [],
   "source": [
    "def game(size:int = 5, strat:callable = optimal) -> (bool, int):  # plays a game of given size using strategy strat against an opponent who randomly picks their move\n",
    "    strategy = (strat, pure_random) if random.random() < 0.5 else (pure_random, strat)  # randomly select player 1 and player 2\n",
    "    nim = Nim(size)\n",
    "    player = 0\n",
    "    num_moves = 0\n",
    "    while nim:\n",
    "        num_moves += 1\n",
    "        ply = strategy[player](nim)\n",
    "        nim.nimming(ply)\n",
    "        player = 1 - player\n",
    "    return (strategy[player] == strat, num_moves)"
   ]
  },
  {
   "cell_type": "code",
   "execution_count": 12,
   "metadata": {},
   "outputs": [],
   "source": [
    "class Individual:\n",
    "    genotype:float\n",
    "    fitness: tuple\n",
    "\n",
    "    def phenotype(self, state: Nim) -> Nimply:\n",
    "        analysis = analize(state)\n",
    "        logging.debug(f\"analysis:\\n{pformat(analysis)}\")\n",
    "        spicy_moves = [(ply, ns) for ply, ns in analysis[\"possible_moves\"].items() if ns != 0]\n",
    "        if not spicy_moves:\n",
    "            spicy_moves = list(analysis[\"possible_moves\"].keys())\n",
    "            return random.choice(spicy_moves)\n",
    "        if random.random() < self.genotype: # choose the move with the smallest non-zero nim sum\n",
    "            spicy_moves.sort(key = lambda i : i[1]) # sort moves by their nim sum\n",
    "            return spicy_moves[0][0]\n",
    "        return random.choice(spicy_moves)[0]"
   ]
  },
  {
   "cell_type": "code",
   "execution_count": 13,
   "metadata": {},
   "outputs": [],
   "source": [
    "def fitness(individual:Individual):  # the fitness is calculated as the winrate and the average number of moves calculated over 100 games\n",
    "    winrate = 0\n",
    "    tot_moves = 0.0\n",
    "    for i in range(100):\n",
    "        won, moves = game(strat=individual.phenotype)\n",
    "        winrate += won\n",
    "        tot_moves += moves\n",
    "    return winrate, - tot_moves/100"
   ]
  },
  {
   "cell_type": "code",
   "execution_count": 14,
   "metadata": {},
   "outputs": [
    {
     "ename": "TypeError",
     "evalue": "Individual.phenotype() missing 1 required positional argument: 'state'",
     "output_type": "error",
     "traceback": [
      "\u001b[1;31m---------------------------------------------------------------------------\u001b[0m",
      "\u001b[1;31mTypeError\u001b[0m                                 Traceback (most recent call last)",
      "\u001b[1;32mc:\\Users\\Chare\\Desktop\\PoliTO\\Computational Intelligence\\repo\\computational-intelligence\\lab2-nim.ipynb Cell 19\u001b[0m line \u001b[0;36m4\n\u001b[0;32m      <a href='vscode-notebook-cell:/c%3A/Users/Chare/Desktop/PoliTO/Computational%20Intelligence/repo/computational-intelligence/lab2-nim.ipynb#X21sZmlsZQ%3D%3D?line=0'>1</a>\u001b[0m ind \u001b[39m=\u001b[39m Individual()\n\u001b[0;32m      <a href='vscode-notebook-cell:/c%3A/Users/Chare/Desktop/PoliTO/Computational%20Intelligence/repo/computational-intelligence/lab2-nim.ipynb#X21sZmlsZQ%3D%3D?line=2'>3</a>\u001b[0m ind\u001b[39m.\u001b[39mgenotype \u001b[39m=\u001b[39m random\u001b[39m.\u001b[39mrandom()\n\u001b[1;32m----> <a href='vscode-notebook-cell:/c%3A/Users/Chare/Desktop/PoliTO/Computational%20Intelligence/repo/computational-intelligence/lab2-nim.ipynb#X21sZmlsZQ%3D%3D?line=3'>4</a>\u001b[0m ind\u001b[39m.\u001b[39mfitness \u001b[39m=\u001b[39m fitness(Individual)\n\u001b[0;32m      <a href='vscode-notebook-cell:/c%3A/Users/Chare/Desktop/PoliTO/Computational%20Intelligence/repo/computational-intelligence/lab2-nim.ipynb#X21sZmlsZQ%3D%3D?line=5'>6</a>\u001b[0m \u001b[39mprint\u001b[39m(ind\u001b[39m.\u001b[39mgenotype, ind\u001b[39m.\u001b[39mfitness)\n",
      "\u001b[1;32mc:\\Users\\Chare\\Desktop\\PoliTO\\Computational Intelligence\\repo\\computational-intelligence\\lab2-nim.ipynb Cell 19\u001b[0m line \u001b[0;36m5\n\u001b[0;32m      <a href='vscode-notebook-cell:/c%3A/Users/Chare/Desktop/PoliTO/Computational%20Intelligence/repo/computational-intelligence/lab2-nim.ipynb#X21sZmlsZQ%3D%3D?line=2'>3</a>\u001b[0m tot_moves \u001b[39m=\u001b[39m \u001b[39m0.0\u001b[39m\n\u001b[0;32m      <a href='vscode-notebook-cell:/c%3A/Users/Chare/Desktop/PoliTO/Computational%20Intelligence/repo/computational-intelligence/lab2-nim.ipynb#X21sZmlsZQ%3D%3D?line=3'>4</a>\u001b[0m \u001b[39mfor\u001b[39;00m i \u001b[39min\u001b[39;00m \u001b[39mrange\u001b[39m(\u001b[39m100\u001b[39m):\n\u001b[1;32m----> <a href='vscode-notebook-cell:/c%3A/Users/Chare/Desktop/PoliTO/Computational%20Intelligence/repo/computational-intelligence/lab2-nim.ipynb#X21sZmlsZQ%3D%3D?line=4'>5</a>\u001b[0m     won, moves \u001b[39m=\u001b[39m game(strat\u001b[39m=\u001b[39;49mindividual\u001b[39m.\u001b[39;49mphenotype)\n\u001b[0;32m      <a href='vscode-notebook-cell:/c%3A/Users/Chare/Desktop/PoliTO/Computational%20Intelligence/repo/computational-intelligence/lab2-nim.ipynb#X21sZmlsZQ%3D%3D?line=5'>6</a>\u001b[0m     winrate \u001b[39m+\u001b[39m\u001b[39m=\u001b[39m won\n\u001b[0;32m      <a href='vscode-notebook-cell:/c%3A/Users/Chare/Desktop/PoliTO/Computational%20Intelligence/repo/computational-intelligence/lab2-nim.ipynb#X21sZmlsZQ%3D%3D?line=6'>7</a>\u001b[0m     tot_moves \u001b[39m+\u001b[39m\u001b[39m=\u001b[39m moves\n",
      "\u001b[1;32mc:\\Users\\Chare\\Desktop\\PoliTO\\Computational Intelligence\\repo\\computational-intelligence\\lab2-nim.ipynb Cell 19\u001b[0m line \u001b[0;36m8\n\u001b[0;32m      <a href='vscode-notebook-cell:/c%3A/Users/Chare/Desktop/PoliTO/Computational%20Intelligence/repo/computational-intelligence/lab2-nim.ipynb#X21sZmlsZQ%3D%3D?line=5'>6</a>\u001b[0m \u001b[39mwhile\u001b[39;00m nim:\n\u001b[0;32m      <a href='vscode-notebook-cell:/c%3A/Users/Chare/Desktop/PoliTO/Computational%20Intelligence/repo/computational-intelligence/lab2-nim.ipynb#X21sZmlsZQ%3D%3D?line=6'>7</a>\u001b[0m     num_moves \u001b[39m+\u001b[39m\u001b[39m=\u001b[39m \u001b[39m1\u001b[39m\n\u001b[1;32m----> <a href='vscode-notebook-cell:/c%3A/Users/Chare/Desktop/PoliTO/Computational%20Intelligence/repo/computational-intelligence/lab2-nim.ipynb#X21sZmlsZQ%3D%3D?line=7'>8</a>\u001b[0m     ply \u001b[39m=\u001b[39m strategy[player](nim)\n\u001b[0;32m      <a href='vscode-notebook-cell:/c%3A/Users/Chare/Desktop/PoliTO/Computational%20Intelligence/repo/computational-intelligence/lab2-nim.ipynb#X21sZmlsZQ%3D%3D?line=8'>9</a>\u001b[0m     nim\u001b[39m.\u001b[39mnimming(ply)\n\u001b[0;32m     <a href='vscode-notebook-cell:/c%3A/Users/Chare/Desktop/PoliTO/Computational%20Intelligence/repo/computational-intelligence/lab2-nim.ipynb#X21sZmlsZQ%3D%3D?line=9'>10</a>\u001b[0m     player \u001b[39m=\u001b[39m \u001b[39m1\u001b[39m \u001b[39m-\u001b[39m player\n",
      "\u001b[1;31mTypeError\u001b[0m: Individual.phenotype() missing 1 required positional argument: 'state'"
     ]
    }
   ],
   "source": [
    "ind = Individual()\n",
    "\n",
    "ind.genotype = random.random()\n",
    "ind.fitness = fitness(Individual)\n",
    "\n",
    "print(ind.genotype, ind.fitness)"
   ]
  }
 ],
 "metadata": {
  "kernelspec": {
   "display_name": "Python 3.10.7 ('ci22-dPIXJ0_o-py3.10')",
   "language": "python",
   "name": "python3"
  },
  "language_info": {
   "codemirror_mode": {
    "name": "ipython",
    "version": 3
   },
   "file_extension": ".py",
   "mimetype": "text/x-python",
   "name": "python",
   "nbconvert_exporter": "python",
   "pygments_lexer": "ipython3",
   "version": "3.12.0"
  },
  "vscode": {
   "interpreter": {
    "hash": "10197e8e2f2aa67e2c349105091c77f4cd384fce4877865f002d9ec653f96bc0"
   }
  }
 },
 "nbformat": 4,
 "nbformat_minor": 2
}
