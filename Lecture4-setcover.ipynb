{
 "cells": [
  {
   "cell_type": "markdown",
   "metadata": {},
   "source": [
    "## Set cover"
   ]
  },
  {
   "cell_type": "code",
   "execution_count": 5,
   "metadata": {},
   "outputs": [],
   "source": [
    "import numpy as np\n",
    "from random import random\n",
    "from functools import reduce\n",
    "import queue\n",
    "from collections import namedtuple"
   ]
  },
  {
   "cell_type": "code",
   "execution_count": 6,
   "metadata": {},
   "outputs": [],
   "source": [
    "PROBLEM_SIZE = 20\n",
    "NUM_SETS = 64\n",
    "State = namedtuple('state', ['taken', 'not_taken'])"
   ]
  },
  {
   "cell_type": "code",
   "execution_count": 7,
   "metadata": {},
   "outputs": [],
   "source": [
    "SETS = tuple(np.array([random() < .5 for _ in range(PROBLEM_SIZE)]) for _ in range(NUM_SETS))"
   ]
  },
  {
   "cell_type": "code",
   "execution_count": 8,
   "metadata": {},
   "outputs": [],
   "source": [
    "def goal_check(state): # function to check if we found a set cover\n",
    "    return len(state.taken) > 0 and np.all(reduce(np.logical_or, [SETS[i] for i in state.taken]))  "
   ]
  },
  {
   "cell_type": "code",
   "execution_count": 9,
   "metadata": {},
   "outputs": [],
   "source": [
    "assert goal_check(State(set(range(NUM_SETS)), set())), \"Problem not solvable\" # check if the problem is solvable"
   ]
  },
  {
   "cell_type": "markdown",
   "metadata": {},
   "source": [
    "#### Classical path search"
   ]
  },
  {
   "cell_type": "code",
   "execution_count": 10,
   "metadata": {},
   "outputs": [],
   "source": [
    "frontier = queue.Queue()  # FIFO queue: breadth first\n",
    "#frontier = queue.LifoQueue() # LIFO queue: depth first\n",
    "frontier.put(State(set(), set(range(NUM_SETS))))  #initial state"
   ]
  },
  {
   "cell_type": "code",
   "execution_count": 11,
   "metadata": {},
   "outputs": [
    {
     "name": "stdout",
     "output_type": "stream",
     "text": [
      "Found solution {0, 41} in 105 steps.\n",
      "Cost: 25\n"
     ]
    }
   ],
   "source": [
    "curr_state = frontier.get()\n",
    "counter = 0\n",
    "while not goal_check(curr_state):\n",
    "    counter += 1\n",
    "#    print(\"Checking\", curr_state.taken, curr_state.not_taken)\n",
    "    for action in curr_state.not_taken:\n",
    "        new_state = State(curr_state.taken ^ {action}, curr_state.not_taken ^ {action}) #using XOR for both operations\n",
    "        frontier.put(new_state)\n",
    "    curr_state = frontier.get()\n",
    "\n",
    "print(\"Found solution\", curr_state.taken ,\"in\", counter, \"steps.\\nCost:\", np.sum([SETS[i] for i in curr_state.taken]))"
   ]
  },
  {
   "cell_type": "markdown",
   "metadata": {},
   "source": [
    "## Homework\n",
    "Add a cost equal to the number of true elements in the set, then implement Dijkstra (breadth first with minimum cost)"
   ]
  },
  {
   "cell_type": "code",
   "execution_count": 12,
   "metadata": {},
   "outputs": [],
   "source": [
    "def cost(state):\n",
    "    return np.sum([SETS[i] for i in state.taken])"
   ]
  },
  {
   "cell_type": "code",
   "execution_count": 13,
   "metadata": {},
   "outputs": [],
   "source": [
    "frontier = queue.PriorityQueue()\n",
    "frontier.put((0, State(set(), set(range(NUM_SETS)))))  #initial state"
   ]
  },
  {
   "cell_type": "code",
   "execution_count": 14,
   "metadata": {},
   "outputs": [
    {
     "name": "stdout",
     "output_type": "stream",
     "text": [
      "Found solution {56, 43} in 3577 steps.\n",
      "Cost: 21\n"
     ]
    }
   ],
   "source": [
    "curr_state = frontier.get()[1]\n",
    "counter = 0\n",
    "while not goal_check(curr_state):\n",
    "    counter += 1\n",
    "    #print(\"Checking\", curr_state.taken, cost(curr_state))\n",
    "    for action in curr_state.not_taken:\n",
    "        new_state = State(curr_state.taken ^ {action}, curr_state.not_taken ^ {action}) #using XOR for both operations\n",
    "        frontier.put((cost(new_state), new_state))\n",
    "    curr_state = frontier.get()[1]\n",
    "\n",
    "print(\"Found solution\", curr_state.taken ,\"in\", counter, \"steps.\\nCost:\", cost(curr_state))"
   ]
  },
  {
   "cell_type": "markdown",
   "metadata": {},
   "source": [
    "## Informed Strategy"
   ]
  },
  {
   "cell_type": "code",
   "execution_count": 15,
   "metadata": {},
   "outputs": [],
   "source": [
    "def distance(state):\n",
    "    return PROBLEM_SIZE - np.sum(reduce(np.logical_or, [SETS[i] for i in state.taken], [False for _ in range(PROBLEM_SIZE)]))"
   ]
  },
  {
   "cell_type": "code",
   "execution_count": 16,
   "metadata": {},
   "outputs": [],
   "source": [
    "frontier = queue.PriorityQueue()\n",
    "frontier.put((20, State(set(), set(range(NUM_SETS)))))  #initial state"
   ]
  },
  {
   "cell_type": "code",
   "execution_count": 17,
   "metadata": {},
   "outputs": [],
   "source": [
    "SETS = tuple(np.array([random() < .5 for _ in range(PROBLEM_SIZE)]) for _ in range(NUM_SETS))"
   ]
  },
  {
   "cell_type": "markdown",
   "metadata": {},
   "source": [
    "Greedy Best first"
   ]
  },
  {
   "cell_type": "code",
   "execution_count": 18,
   "metadata": {},
   "outputs": [
    {
     "name": "stdout",
     "output_type": "stream",
     "text": [
      "Found solution {0, 1, 4} in 3 steps.\n",
      "Cost: 39\n"
     ]
    }
   ],
   "source": [
    "_, curr_state = frontier.get()\n",
    "counter = 0\n",
    "while not goal_check(curr_state):\n",
    "    counter += 1\n",
    "    for action in curr_state.not_taken:\n",
    "        new_state = State(curr_state.taken ^ {action}, curr_state.not_taken ^ {action}) #using XOR for both operations\n",
    "        dist = distance(new_state)\n",
    "        frontier.put((dist, new_state))\n",
    "    _, curr_state = frontier.get()\n",
    "\n",
    "print(\"Found solution\", curr_state.taken ,\"in\", counter, \"steps.\\nCost:\", cost(curr_state))"
   ]
  },
  {
   "cell_type": "markdown",
   "metadata": {},
   "source": [
    "Greedy Best First with Mask Optimization"
   ]
  },
  {
   "cell_type": "code",
   "execution_count": 19,
   "metadata": {},
   "outputs": [],
   "source": [
    "frontier = queue.PriorityQueue()\n",
    "frontier.put((20, State(set(), set(range(NUM_SETS)))))  #initial state"
   ]
  },
  {
   "cell_type": "code",
   "execution_count": 20,
   "metadata": {},
   "outputs": [
    {
     "name": "stdout",
     "output_type": "stream",
     "text": [
      "Found solution {0, 1, 4} in 3 steps.\n",
      "Cost: 39\n"
     ]
    }
   ],
   "source": [
    "_, curr_state = frontier.get()\n",
    "counter = 0\n",
    "while not goal_check(curr_state):\n",
    "    counter += 1\n",
    "    for action in curr_state.not_taken:\n",
    "        new_state = State(curr_state.taken ^ {action}, curr_state.not_taken ^ {action}) #using XOR for both operations\n",
    "        dist = distance(new_state, np.logical_not(reduce(np.logical_or, [SETS[i] for i in curr_state.taken], [False for _ in range(PROBLEM_SIZE)])))\n",
    "        frontier.put((dist, new_state))\n",
    "    _, curr_state = frontier.get()\n",
    "\n",
    "print(\"Found solution\", curr_state.taken ,\"in\", counter, \"steps.\\nCost:\", cost(curr_state))"
   ]
  },
  {
   "cell_type": "code",
   "execution_count": 21,
   "metadata": {},
   "outputs": [
    {
     "name": "stdout",
     "output_type": "stream",
     "text": [
      "[1 0 1 1 0 1 0 1 0 0 1 1 1 1 1 1 1 0 0 1]\n",
      "[1 1 0 1 1 0 1 1 1 0 1 1 0 0 1 1 0 1 1 0]\n",
      "[1 1 1 0 0 0 1 1 0 1 1 1 1 0 0 1 0 1 1 1]\n"
     ]
    }
   ],
   "source": [
    "for set in curr_state.taken:\n",
    "    print(SETS[set].astype(int))"
   ]
  }
 ],
 "metadata": {
  "kernelspec": {
   "display_name": "venv",
   "language": "python",
   "name": "python3"
  },
  "language_info": {
   "codemirror_mode": {
    "name": "ipython",
    "version": 3
   },
   "file_extension": ".py",
   "mimetype": "text/x-python",
   "name": "python",
   "nbconvert_exporter": "python",
   "pygments_lexer": "ipython3",
   "version": "3.12.0"
  }
 },
 "nbformat": 4,
 "nbformat_minor": 2
}
